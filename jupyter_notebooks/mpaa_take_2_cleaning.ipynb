{
 "cells": [
  {
   "cell_type": "code",
   "execution_count": null,
   "id": "3ee989cd",
   "metadata": {},
   "outputs": [],
   "source": [
    "import numpy as np\n",
    "import pandas as pd\n",
    "from pandas_profiling import ProfileReport\n",
    "import re\n",
    "import pickle"
   ]
  },
  {
   "cell_type": "code",
   "execution_count": null,
   "id": "a86fedd5",
   "metadata": {},
   "outputs": [],
   "source": [
    "mpaa_results = pd.read_pickle('../data/mpaa_results.pkl')"
   ]
  },
  {
   "cell_type": "code",
   "execution_count": null,
   "id": "5d93b348",
   "metadata": {},
   "outputs": [],
   "source": [
    "titles = []\n",
    "rating_years = []\n",
    "mpaa_ratings = []\n",
    "mpaa_certs = []\n",
    "reasons = []\n",
    "others = []\n",
    "\n",
    "for i in range(0, len(mpaa_results)):\n",
    "    print(i)\n",
    "    \n",
    "    result = mpaa_results[i]\n",
    "    \n",
    "    title = re.search('TITLE:(.+) ?\\(\\d', result)[1].strip()\n",
    "    rating_year = re.search('TITLE:.+\\((\\d+)\\)R', result)[1].strip()\n",
    "    mpaa_rating = re.search('RATING:(.+)CERTIFICATE', result)[1].strip()\n",
    "    mpaa_cert = re.search('CERTIFICATE #:(\\d*)', result)[1].strip()\n",
    "    reason = re.search('REASON:\\n?(.*)\\n{0,2} ?\\n?\\xa0D', result)[1].strip().replace('.', '')\n",
    "    other = re.search('OTHER:(.*)\\xa0', result)[1].strip()\n",
    "    \n",
    "    titles.append(title)\n",
    "    rating_years.append(rating_year)\n",
    "    mpaa_ratings.append(mpaa_rating)\n",
    "    mpaa_certs.append(mpaa_cert)\n",
    "    reasons.append(reason)\n",
    "    others.append(other)\n",
    "    \n",
    "mpaa_details = pd.DataFrame(\n",
    "    {'mpaa_title' : titles,\n",
    "     'rating_year' : rating_years,\n",
    "     'mpaa_rating' : mpaa_ratings,\n",
    "     'mpaa_cert_#' : mpaa_certs,\n",
    "     'mpaa_reason' : reasons,\n",
    "     'other_info' : others\n",
    "    }\n",
    ")"
   ]
  },
  {
   "cell_type": "code",
   "execution_count": null,
   "id": "bc848739",
   "metadata": {},
   "outputs": [],
   "source": [
    "mpaa_details"
   ]
  },
  {
   "cell_type": "code",
   "execution_count": null,
   "id": "58a53c1c",
   "metadata": {},
   "outputs": [],
   "source": [
    "extra_mpaas = pd.read_pickle('../data/extra_mpaa_results.pkl')"
   ]
  },
  {
   "cell_type": "code",
   "execution_count": null,
   "id": "144c2e8d",
   "metadata": {},
   "outputs": [],
   "source": [
    "titles = []\n",
    "rating_years = []\n",
    "mpaa_ratings = []\n",
    "mpaa_certs = []\n",
    "reasons = []\n",
    "others = []\n",
    "\n",
    "for i in range(0, len(extra_mpaas)):\n",
    "    print(i)\n",
    "    \n",
    "    result = extra_mpaas[i]\n",
    "    \n",
    "    title = re.search('TITLE:(.+)\\(\\d', result)[1].strip()\n",
    "    rating_year = re.search('TITLE:.+\\((\\d+)\\)R', result)[1].strip()\n",
    "    mpaa_rating = re.search('RATING:(.+)CERTIFICATE', result)[1].strip()\n",
    "    mpaa_cert = re.search('CERTIFICATE #:(\\d*)', result)[1].strip()\n",
    "    reason = re.search('REASON:\\n?(.*)\\n{0,2} ?\\n?\\xa0D', result)[1].strip().replace('.', '')\n",
    "    other = re.search('OTHER:(.*)\\xa0', result)[1].strip()\n",
    "    \n",
    "    titles.append(title)\n",
    "    rating_years.append(rating_year)\n",
    "    mpaa_ratings.append(mpaa_rating)\n",
    "    mpaa_certs.append(mpaa_cert)\n",
    "    reasons.append(reason)\n",
    "    others.append(other)\n",
    "    \n",
    "extra_mpaa_details = pd.DataFrame(\n",
    "    {'mpaa_title' : titles,\n",
    "     'rating_year' : rating_years,\n",
    "     'mpaa_rating' : mpaa_ratings,\n",
    "     'mpaa_cert_#' : mpaa_certs,\n",
    "     'mpaa_reason' : reasons,\n",
    "     'other_info' : others\n",
    "    }\n",
    ")"
   ]
  },
  {
   "cell_type": "code",
   "execution_count": null,
   "id": "4a2f7724",
   "metadata": {},
   "outputs": [],
   "source": [
    "extra_mpaa_details.loc[extra_mpaa_details['mpaa_title'].str.contains('Cutting')]"
   ]
  },
  {
   "cell_type": "code",
   "execution_count": null,
   "id": "505559c4",
   "metadata": {},
   "outputs": [],
   "source": [
    "g_plus_results = pd.read_pickle('../data/g_plus_results.pkl').reset_index(drop=True)"
   ]
  },
  {
   "cell_type": "code",
   "execution_count": null,
   "id": "207958d8",
   "metadata": {},
   "outputs": [],
   "source": [
    "titles = []\n",
    "rating_years = []\n",
    "mpaa_ratings = []\n",
    "mpaa_certs = []\n",
    "reasons = []\n",
    "others = []\n",
    "\n",
    "for i in range(0, len(g_plus_results)):\n",
    "    print(i)\n",
    "    \n",
    "    result = g_plus_results[i]\n",
    "    \n",
    "    title = re.search('TITLE:(.+)\\(\\d', result)[1].strip()\n",
    "    rating_year = re.search('TITLE:.+\\((\\d+)\\)R', result)[1].strip()\n",
    "    mpaa_rating = re.search('RATING:(.+)CERTIFICATE', result)[1].strip()\n",
    "    mpaa_cert = re.search('CERTIFICATE #:(\\d*)', result)[1].strip()\n",
    "    reason = re.search('REASON:\\n?(.*)\\n{0,2} ?\\n?\\xa0D', result)[1].strip().replace('.', '')\n",
    "    other = re.search('OTHER:(.*)\\xa0', result)[1].strip()\n",
    "    \n",
    "    titles.append(title)\n",
    "    rating_years.append(rating_year)\n",
    "    mpaa_ratings.append(mpaa_rating)\n",
    "    mpaa_certs.append(mpaa_cert)\n",
    "    reasons.append(reason)\n",
    "    others.append(other)\n",
    "    \n",
    "g_plus_details = pd.DataFrame(\n",
    "    {'mpaa_title' : titles,\n",
    "     'rating_year' : rating_years,\n",
    "     'mpaa_rating' : mpaa_ratings,\n",
    "     'mpaa_cert_#' : mpaa_certs,\n",
    "     'mpaa_reason' : reasons,\n",
    "     'other_info' : others\n",
    "    }\n",
    ")"
   ]
  },
  {
   "cell_type": "code",
   "execution_count": null,
   "id": "25ba496f",
   "metadata": {},
   "outputs": [],
   "source": [
    "all_mpaa_details = pd.concat([mpaa_details, extra_mpaa_details, g_plus_details])"
   ]
  },
  {
   "cell_type": "code",
   "execution_count": null,
   "id": "1b339211",
   "metadata": {
    "scrolled": true
   },
   "outputs": [],
   "source": [
    "all_mpaa_details.loc[all_mpaa_details['mpaa_title'].str.contains(\"CERTIFICATE\"), 'mpaa_title'] = all_mpaa_details.loc[all_mpaa_details['mpaa_title'].str.contains(\"CERTIFICATE\")]['mpaa_title'].str.split(\"\\(\").str[0].str.strip()"
   ]
  },
  {
   "cell_type": "code",
   "execution_count": null,
   "id": "2786b92f",
   "metadata": {},
   "outputs": [],
   "source": [
    "all_mpaa_details = all_mpaa_details.drop_duplicates()"
   ]
  },
  {
   "cell_type": "code",
   "execution_count": null,
   "id": "a14a62dd",
   "metadata": {
    "scrolled": false
   },
   "outputs": [],
   "source": [
    "all_mpaa_details.loc[all_mpaa_details['mpaa_title'] == 'My Sassy Girl']"
   ]
  },
  {
   "cell_type": "code",
   "execution_count": null,
   "id": "9e6ded0c",
   "metadata": {},
   "outputs": [],
   "source": [
    "# not sure why this wasn't pulled out\n",
    "mpaa_details.loc[mpaa_details['mpaa_title'] == 'My Sassy Girl', 'mpaa_cert_#'] = '43458'"
   ]
  },
  {
   "cell_type": "code",
   "execution_count": null,
   "id": "ece5cecf",
   "metadata": {},
   "outputs": [],
   "source": [
    "# These are both old movies being rerated or versions of movies that were changed prior to release\n",
    "all_mpaa_details = all_mpaa_details.loc[~(all_mpaa_details['mpaa_cert_#'] == '')]"
   ]
  },
  {
   "cell_type": "code",
   "execution_count": null,
   "id": "de81749c",
   "metadata": {},
   "outputs": [],
   "source": [
    "# There are 12 certificate numbers used twice for different movies, will have to look at this with merge\n",
    "len(all_mpaa_details.loc[all_mpaa_details.duplicated(subset = ['mpaa_cert_#'], keep = False)].sort_values('mpaa_cert_#'))"
   ]
  },
  {
   "cell_type": "code",
   "execution_count": null,
   "id": "4f5e22a9",
   "metadata": {},
   "outputs": [],
   "source": [
    "all_mpaa_details.loc[all_mpaa_details['mpaa_title'].str.contains(\"CERTIFICATE\")]"
   ]
  },
  {
   "cell_type": "code",
   "execution_count": null,
   "id": "5eb543a4",
   "metadata": {
    "scrolled": true
   },
   "outputs": [],
   "source": [
    "mpaa_details.loc[mpaa_details['mpaa_cert_#'] == '31523']"
   ]
  },
  {
   "cell_type": "code",
   "execution_count": null,
   "id": "e04dc427",
   "metadata": {},
   "outputs": [],
   "source": [
    "all_mpaa_details.loc[all_mpaa_details['other_info'].str.contains('Re-Rating')]"
   ]
  },
  {
   "cell_type": "code",
   "execution_count": null,
   "id": "62405d4e",
   "metadata": {},
   "outputs": [],
   "source": [
    "all_mpaa_details = all_mpaa_details.drop_duplicates().reset_index(drop=True)"
   ]
  },
  {
   "cell_type": "code",
   "execution_count": null,
   "id": "28368da8",
   "metadata": {},
   "outputs": [],
   "source": [
    "all_mpaa_details.to_pickle('../data/mpaa_details.pkl')"
   ]
  },
  {
   "cell_type": "code",
   "execution_count": null,
   "id": "80bd73df",
   "metadata": {},
   "outputs": [],
   "source": [
    "all_mpaa_details['mpaa_rating'].value_counts()"
   ]
  },
  {
   "cell_type": "code",
   "execution_count": null,
   "id": "4ee916f5",
   "metadata": {},
   "outputs": [],
   "source": [
    "# These are all movies that were rated prior to the rating reasons being required\n",
    "all_mpaa_details = all_mpaa_details.loc[~((all_mpaa_details['mpaa_reason'] == '')\n",
    "              & (all_mpaa_details['mpaa_rating'] != 'G'))]"
   ]
  },
  {
   "cell_type": "code",
   "execution_count": null,
   "id": "e114d665",
   "metadata": {},
   "outputs": [],
   "source": [
    "# These are all older movies that had the rating symbol updated or for reissue, excluding them from the analysis (100)\n",
    "all_mpaa_details = all_mpaa_details.loc[~((all_mpaa_details['other_info'] == 'Rating Symbol Changed')\n",
    "                                       |\n",
    "                                        all_mpaa_details['other_info'].str.contains('Re-Issue'))]"
   ]
  }
 ],
 "metadata": {
  "kernelspec": {
   "display_name": "Python 3 (ipykernel)",
   "language": "python",
   "name": "python3"
  },
  "language_info": {
   "codemirror_mode": {
    "name": "ipython",
    "version": 3
   },
   "file_extension": ".py",
   "mimetype": "text/x-python",
   "name": "python",
   "nbconvert_exporter": "python",
   "pygments_lexer": "ipython3",
   "version": "3.9.16"
  }
 },
 "nbformat": 4,
 "nbformat_minor": 5
}
