{
 "cells": [
  {
   "cell_type": "code",
   "execution_count": null,
   "id": "61b77dae",
   "metadata": {},
   "outputs": [],
   "source": [
    "import requests\n",
    "\n",
    "from bs4 import BeautifulSoup as BS\n",
    "from selenium import webdriver\n",
    "from selenium.webdriver.common.keys import Keys\n",
    "from selenium.webdriver.common.by import By\n",
    "from selenium.webdriver.common.action_chains import ActionChains\n",
    "from selenium.webdriver.support.select import Select\n",
    "\n",
    "import time\n",
    "\n",
    "import pandas as pd\n",
    "import numpy as np"
   ]
  },
  {
   "cell_type": "code",
   "execution_count": null,
   "id": "6bd15e23",
   "metadata": {
    "scrolled": false
   },
   "outputs": [],
   "source": [
    "#Creating list of movie ratings as used by filmratings.com\n",
    "ratings = pd.DataFrame(['G', 'PG', 'PG-13', 'R', 'NC-17'], columns=['rating'])\n",
    "ratings['key'] = 1\n",
    "\n",
    "#Creating list of years of interest\n",
    "years = pd.DataFrame(list(range(1992, 2023)), columns = ['year'])\n",
    "years['key'] = 1\n",
    "\n",
    "#\"Cross-joining\" these two lists to create combinations of every year and rating\n",
    "year_rating = pd.merge(years, ratings, on = 'key').drop('key', 1)\n",
    "\n",
    "year_rating.info()"
   ]
  },
  {
   "cell_type": "code",
   "execution_count": null,
   "id": "801fb0e2",
   "metadata": {},
   "outputs": [],
   "source": [
    "def get_mpaa_ratings(year, rating):\n",
    "    \n",
    "    time.sleep(1)\n",
    "    \n",
    "    #get the filmratings.com search running\n",
    "    driver.get(f\"https://www.filmratings.com/Search?filmYear={year}&filmRating={rating}\")\n",
    "    \n",
    "    time.sleep(2)\n",
    "\n",
    "    #find and click on the \"View in HTML\" button\n",
    "    view_html = driver.find_element(by=By.CSS_SELECTOR, value=\"[href = 'javascript:handleFullResults();']\")\n",
    "    view_html.click()\n",
    "    \n",
    "    time.sleep(1)\n",
    "    \n",
    "    #close the original tab\n",
    "    driver.close()\n",
    "    \n",
    "    #switch to the new window that opens with the results in html\n",
    "    driver.switch_to.window(driver.window_handles[-1])\n",
    "    \n",
    "    #create the soup\n",
    "    content = driver.page_source\n",
    "    soup = BS(content)\n",
    "\n",
    "    #pull out the div tags that contain the information about the movies\n",
    "    div = soup.find_all('div')\n",
    "\n",
    "    #there is a pattern that repeats every 7 div tags, allowing us to identify the # of entries per page\n",
    "    entries = int(len(div) / 7 - 1)\n",
    "    \n",
    "    #print a little note so the observer knows where the process is\n",
    "    print('Pulling', year, rating, 'movies with', entries, 'total entries')\n",
    "\n",
    "    #create a temporary dataframe to store the data from each page\n",
    "    temp_df = pd.DataFrame()\n",
    "\n",
    "    temp_df['title'] = [div[8+7*i].text for i in range(0, entries)]\n",
    "    temp_df['rating'] = [div[9+7*i].text for i in range(0, entries)]\n",
    "    temp_df['reason'] = [div[10+7*i].text for i in range(0, entries)]\n",
    "    temp_df['distributor'] = [div[11+7*i].text for i in range(0, entries)]\n",
    "    temp_df['alt_titles'] = [div[12+7*i].text for i in range(0, entries)]\n",
    "    temp_df['other'] = [div[13+7*i].text for i in range(0, entries)]\n",
    "    \n",
    "    #adding the temp_df data into the global mpaa_df to create one complete dataframe\n",
    "    global mpaa_df\n",
    "    mpaa_df = pd.concat([mpaa_df, temp_df])\n",
    "    mpaa_df = mpaa_df.reset_index(drop=True)\n",
    "    "
   ]
  },
  {
   "cell_type": "code",
   "execution_count": null,
   "id": "2b9d2fd2",
   "metadata": {},
   "outputs": [],
   "source": [
    "mpaa_df = pd.DataFrame()\n",
    "\n",
    "#initiate Selenium\n",
    "driver = webdriver.Chrome()\n",
    "\n",
    "for ind, row in year_rating.iterrows():\n",
    "    #grab each year/rating combination\n",
    "    year = str(row['year'])\n",
    "    rating = row['rating']\n",
    "    \n",
    "    get_mpaa_ratings(year, rating)\n",
    "  \n"
   ]
  },
  {
   "cell_type": "code",
   "execution_count": null,
   "id": "c45df236",
   "metadata": {},
   "outputs": [],
   "source": [
    "all_mpaa_info = mpaa_df"
   ]
  },
  {
   "cell_type": "code",
   "execution_count": null,
   "id": "0bdd1b99",
   "metadata": {
    "scrolled": true
   },
   "outputs": [],
   "source": [
    "all_mpaa_info['year'] = all_mpaa_info['title'].str.extract('.+\\((\\d{4})\\)')\n",
    "\n",
    "all_mpaa_info"
   ]
  },
  {
   "cell_type": "code",
   "execution_count": null,
   "id": "0d9297dc",
   "metadata": {},
   "outputs": [],
   "source": [
    "all_mpaa_info['title'] = all_mpaa_info['title'].str[:-6].str.strip()\n",
    "all_mpaa_info"
   ]
  },
  {
   "cell_type": "code",
   "execution_count": null,
   "id": "9ee6517a",
   "metadata": {},
   "outputs": [],
   "source": [
    "#all_mpaa_info.to_csv('../data/mpaa_data.csv')"
   ]
  },
  {
   "cell_type": "code",
   "execution_count": null,
   "id": "82eb2bd7",
   "metadata": {},
   "outputs": [],
   "source": []
  }
 ],
 "metadata": {
  "kernelspec": {
   "display_name": "Python 3 (ipykernel)",
   "language": "python",
   "name": "python3"
  },
  "language_info": {
   "codemirror_mode": {
    "name": "ipython",
    "version": 3
   },
   "file_extension": ".py",
   "mimetype": "text/x-python",
   "name": "python",
   "nbconvert_exporter": "python",
   "pygments_lexer": "ipython3",
   "version": "3.9.16"
  }
 },
 "nbformat": 4,
 "nbformat_minor": 5
}
