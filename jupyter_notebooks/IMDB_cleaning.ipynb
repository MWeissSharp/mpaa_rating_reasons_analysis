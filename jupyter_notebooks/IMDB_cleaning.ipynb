{
 "cells": [
  {
   "cell_type": "code",
   "execution_count": null,
   "id": "0775aadb",
   "metadata": {},
   "outputs": [],
   "source": [
    "import pandas as pd\n",
    "import numpy as np\n",
    "import pickle\n",
    "import re"
   ]
  },
  {
   "cell_type": "code",
   "execution_count": null,
   "id": "b37c5eee",
   "metadata": {
    "scrolled": false
   },
   "outputs": [],
   "source": [
    "first = pd.read_pickle('../data/imdb1992-2001.pkl')\n",
    "second = pd.read_pickle('../data/imdb2002-2009.pkl')\n",
    "third = pd.read_pickle('../data/imdb2010-2018.pkl')\n",
    "fourth = pd.read_pickle('../data/imdb2019-2021.pkl')\n",
    "fifth = pd.read_pickle('../data/imdb2022.pkl')\n",
    "sixth = pd.read_pickle('../data/imdb1991.pkl')\n",
    "imdb = pd.concat([first, second, third, fourth, fifth, sixth]).reset_index(drop=True)\n",
    "\n",
    "imdb.info()"
   ]
  },
  {
   "cell_type": "code",
   "execution_count": null,
   "id": "1c97bd81",
   "metadata": {
    "scrolled": true
   },
   "outputs": [],
   "source": [
    "imdb['votes'] = [re.search('Votes:\\\\\\\\n(.+?)\\'', str(x))[1] if 'Votes' in str(x) else '0' for x in imdb['imdb_votes_and_gross']]"
   ]
  },
  {
   "cell_type": "code",
   "execution_count": null,
   "id": "e98a504a",
   "metadata": {},
   "outputs": [],
   "source": [
    "imdb['gross'] = [re.search('Gross:\\\\\\\\n(.+?)\\'', str(x))[1] if 'Gross' in str(x) else None for x in imdb['imdb_votes_and_gross']]"
   ]
  },
  {
   "cell_type": "code",
   "execution_count": null,
   "id": "5164d7e7",
   "metadata": {
    "scrolled": true
   },
   "outputs": [],
   "source": [
    "imdb['votes'] = imdb['votes'].str.replace(',', '').astype(int)"
   ]
  },
  {
   "cell_type": "code",
   "execution_count": null,
   "id": "430f002c",
   "metadata": {},
   "outputs": [],
   "source": [
    "imdb = imdb.drop(columns = 'imdb_votes_and_gross')"
   ]
  },
  {
   "cell_type": "code",
   "execution_count": null,
   "id": "d50ba2ae",
   "metadata": {},
   "outputs": [],
   "source": [
    "# The release years column has some other data, cleaning it up, splitting it out\n",
    "imdb['release_years'] = imdb['release_years'].str.strip('I X V ( )')\n",
    "\n",
    "imdb[['release_year', 'release_note']] = imdb['release_years'].str.split(pat = ' ', n = 1, expand=True)\n",
    "\n",
    "imdb = imdb.drop(columns='release_years')"
   ]
  },
  {
   "cell_type": "code",
   "execution_count": null,
   "id": "f7064a55",
   "metadata": {},
   "outputs": [],
   "source": [
    "# Get the IMDB rating values out of list format\n",
    "imdb['imdb_ratings'] = pd.DataFrame(imdb['imdb_ratings'].tolist(), index=imdb.index)"
   ]
  },
  {
   "cell_type": "markdown",
   "id": "aab45f3f",
   "metadata": {},
   "source": [
    "Do some EDA, look for movies that need to be removed from the dataset"
   ]
  },
  {
   "cell_type": "code",
   "execution_count": null,
   "id": "a444cc52",
   "metadata": {
    "scrolled": true
   },
   "outputs": [],
   "source": [
    "imdb['release_year'].value_counts().sort_index()"
   ]
  },
  {
   "cell_type": "code",
   "execution_count": null,
   "id": "ae55217f",
   "metadata": {},
   "outputs": [],
   "source": [
    "# Confirmed that the 3 movies without years associated with them are not among those with official MPAA ratings\n",
    "imdb = imdb.loc[imdb['release_year'] != ''].reset_index(drop=True)"
   ]
  },
  {
   "cell_type": "code",
   "execution_count": null,
   "id": "654c5d79",
   "metadata": {},
   "outputs": [],
   "source": [
    "imdb['imdb_mpaas'].value_counts()"
   ]
  },
  {
   "cell_type": "code",
   "execution_count": null,
   "id": "a05712b8",
   "metadata": {},
   "outputs": [],
   "source": [
    "# Dropping all movies with a non-MPAA rating\n",
    "ratings = ['G', 'PG', 'PG-13', 'R', 'NC-17']\n",
    "\n",
    "imdb = imdb.loc[imdb['imdb_mpaas'].isin(ratings)].reset_index(drop = True)"
   ]
  },
  {
   "cell_type": "code",
   "execution_count": null,
   "id": "574dca3e",
   "metadata": {},
   "outputs": [],
   "source": [
    "imdb.info()"
   ]
  },
  {
   "cell_type": "markdown",
   "id": "834d261d",
   "metadata": {},
   "source": [
    "#### Bring in Rating Reason info"
   ]
  },
  {
   "cell_type": "code",
   "execution_count": null,
   "id": "100d01d4",
   "metadata": {
    "scrolled": true
   },
   "outputs": [],
   "source": [
    "reasons_df = pd.read_pickle('../data/rating_reasons.pkl')\n",
    "reasons_df.info()"
   ]
  },
  {
   "cell_type": "code",
   "execution_count": null,
   "id": "ca1fa3cf",
   "metadata": {},
   "outputs": [],
   "source": [
    "more_reasons = pd.read_pickle('../data/more_rating_reasons.pkl')\n",
    "more_reasons.info()"
   ]
  },
  {
   "cell_type": "code",
   "execution_count": null,
   "id": "c1485ad0",
   "metadata": {},
   "outputs": [],
   "source": [
    "additional_reasons = pd.read_pickle('../data/imdb1991_reasons.pkl')\n",
    "additional_reasons.info()"
   ]
  },
  {
   "cell_type": "code",
   "execution_count": null,
   "id": "7a69c187",
   "metadata": {
    "scrolled": true
   },
   "outputs": [],
   "source": [
    "reason_redo_a = pd.read_pickle('../data/reason_redo_a.pkl')\n",
    "reason_redo_a.info()"
   ]
  },
  {
   "cell_type": "code",
   "execution_count": null,
   "id": "bcf0cb99",
   "metadata": {},
   "outputs": [],
   "source": [
    "reasons = pd.concat([reasons_df.loc[~(reasons_df['imdb_ids'].isin(pd.concat([more_reasons['imdb_ids'],\n",
    "                                                                           reason_redo_a['imdb_ids']])))], \n",
    "                     more_reasons.loc[~(more_reasons['imdb_ids'].isin(reason_redo_a['imdb_ids']))], \n",
    "                     additional_reasons,\n",
    "                     reason_redo_a])\n",
    "\n",
    "reasons.info()"
   ]
  },
  {
   "cell_type": "code",
   "execution_count": null,
   "id": "4ffd2ce9",
   "metadata": {},
   "outputs": [],
   "source": [
    "reasons['mpaa_cert_#'] = reasons['mpaa_cert_#'].str.replace('nan', 'None')"
   ]
  },
  {
   "cell_type": "code",
   "execution_count": null,
   "id": "f860a5ad",
   "metadata": {},
   "outputs": [],
   "source": [
    "reasons['mpaa_cert_#'] = (\n",
    "    reasons['mpaa_cert_#']\n",
    "    .str.replace('no.', '')\n",
    "    .str.replace(':', '')\n",
    "    .str.replace('subtitled', '')\n",
    "    .str.replace('dubbed', '')\n",
    "    .str.replace('s', '')\n",
    "    .str.replace('.', '')\n",
    "    .str.replace('number', '')\n",
    "    .str.replace('ificate', '')\n",
    "    .str.strip()\n",
    ")"
   ]
  },
  {
   "cell_type": "code",
   "execution_count": null,
   "id": "e922b648",
   "metadata": {},
   "outputs": [],
   "source": [
    "#Remove punctuation from rating reasons\n",
    "reasons['rating_reasons'] = reasons['rating_reasons'].str.strip('.()')"
   ]
  },
  {
   "cell_type": "code",
   "execution_count": null,
   "id": "e6ea582f",
   "metadata": {
    "scrolled": false
   },
   "outputs": [],
   "source": [
    "reasons = reasons.drop_duplicates().reset_index(drop=True)\n",
    "reasons.info()"
   ]
  },
  {
   "cell_type": "code",
   "execution_count": null,
   "id": "a5d2f1de",
   "metadata": {
    "scrolled": true
   },
   "outputs": [],
   "source": [
    "# Drop rows where only difference is mpaa_cert_note\n",
    "reasons = reasons.loc[~reasons.duplicated(subset = ['imdb_ids', 'rating_reasons', 'mpaa_cert_#'], keep = 'first')].reset_index(drop=True)\n",
    "reasons.info()"
   ]
  },
  {
   "cell_type": "code",
   "execution_count": null,
   "id": "a855f00d",
   "metadata": {
    "scrolled": false
   },
   "outputs": [],
   "source": [
    "# Some of the duplicates are caused by rows with no cert number while others do have the number\n",
    "indices = reasons.loc[(reasons.duplicated(subset = ['imdb_ids', 'rating_reasons'], keep = False))\n",
    "            &\n",
    "            (reasons['mpaa_cert_#'] == 'None')].index"
   ]
  },
  {
   "cell_type": "code",
   "execution_count": null,
   "id": "bafa82ad",
   "metadata": {},
   "outputs": [],
   "source": [
    "reasons = reasons.drop(index = indices).reset_index(drop=True)\n",
    "reasons.info()"
   ]
  },
  {
   "cell_type": "code",
   "execution_count": null,
   "id": "133b786d",
   "metadata": {},
   "outputs": [],
   "source": [
    "# Remaining duplication of IMDB ids are due to movies haveing multiple MPAA certificate numbers\n",
    "reasons.loc[(reasons.duplicated(subset = ['imdb_ids'], keep = False))]"
   ]
  },
  {
   "cell_type": "markdown",
   "id": "a44e401a",
   "metadata": {},
   "source": [
    "#### Merge the two dataframes"
   ]
  },
  {
   "cell_type": "code",
   "execution_count": null,
   "id": "386a317f",
   "metadata": {
    "scrolled": true
   },
   "outputs": [],
   "source": [
    "imdb_reasons = pd.merge(imdb, reasons, on = 'imdb_ids', how = 'left')\n",
    "imdb_reasons.info()"
   ]
  },
  {
   "cell_type": "code",
   "execution_count": null,
   "id": "98632a8d",
   "metadata": {
    "scrolled": true
   },
   "outputs": [],
   "source": [
    "imdb_reasons['mpaa_cert_#'].value_counts()"
   ]
  },
  {
   "cell_type": "code",
   "execution_count": null,
   "id": "efc325c5",
   "metadata": {
    "scrolled": true
   },
   "outputs": [],
   "source": [
    "# did some research and confirmed that only id tt0113799 is a movie that was rated by the mpaa\n",
    "imdb_reasons.loc[imdb_reasons['mpaa_cert_#'] == '40417']"
   ]
  },
  {
   "cell_type": "code",
   "execution_count": null,
   "id": "9e84e041",
   "metadata": {},
   "outputs": [],
   "source": [
    "# Removing other movies from above list\n",
    "imdb_reasons = imdb_reasons.loc[~(imdb_reasons['imdb_ids'].isin(['tt1530535', 'tt6264824', 'tt6266826']))].reset_index(drop=True)"
   ]
  },
  {
   "cell_type": "code",
   "execution_count": null,
   "id": "780c1b88",
   "metadata": {},
   "outputs": [],
   "source": [
    "#These appear to all be part of what the mpaa treated as a single entity, so leaving them in\n",
    "imdb_reasons.loc[imdb_reasons['mpaa_cert_#'] == '44423']"
   ]
  },
  {
   "cell_type": "code",
   "execution_count": null,
   "id": "e0c54336",
   "metadata": {},
   "outputs": [],
   "source": [
    "# The MPAA did not rate any of these\n",
    "imdb_reasons.loc[imdb_reasons['mpaa_cert_#'] == 'n/a']"
   ]
  },
  {
   "cell_type": "code",
   "execution_count": null,
   "id": "d15347e5",
   "metadata": {},
   "outputs": [],
   "source": [
    "# Removing all the movies from the above list\n",
    "imdb_reasons = imdb_reasons.loc[~(imdb_reasons['mpaa_cert_#'] == 'n/a')]"
   ]
  },
  {
   "cell_type": "code",
   "execution_count": null,
   "id": "dd4535a8",
   "metadata": {},
   "outputs": [],
   "source": [
    "# none of these rows need to be kept\n",
    "imdb_reasons.loc[imdb_reasons['mpaa_cert_#'] == 'uitable for young children']"
   ]
  },
  {
   "cell_type": "code",
   "execution_count": null,
   "id": "29c4c4e6",
   "metadata": {},
   "outputs": [],
   "source": [
    "# Removing all the movies from the above list\n",
    "imdb_reasons = imdb_reasons.loc[~(imdb_reasons['mpaa_cert_#'] == 'uitable for young children')]"
   ]
  },
  {
   "cell_type": "code",
   "execution_count": null,
   "id": "956a4e9f",
   "metadata": {},
   "outputs": [],
   "source": [
    "# Confirmed that these were not rated by the mpaa\n",
    "imdb_reasons = imdb_reasons.loc[~(imdb_reasons['imdb_ids'].isin(['tt10158634', 'tt1563725']))]"
   ]
  },
  {
   "cell_type": "code",
   "execution_count": null,
   "id": "c4200f20",
   "metadata": {
    "scrolled": true
   },
   "outputs": [],
   "source": [
    "# Looking at instances when a rating reason plus the certificate # appear repeatedly\n",
    "imdb_reasons.loc[(imdb_reasons['mpaa_cert_#'] != 'nan')\n",
    "                 &\n",
    "                 (imdb_reasons.duplicated(subset = ['rating_reasons', 'mpaa_cert_#'], keep=False))].sort_values('mpaa_cert_#')"
   ]
  },
  {
   "cell_type": "code",
   "execution_count": null,
   "id": "2ba6fc45",
   "metadata": {
    "scrolled": true
   },
   "outputs": [],
   "source": [
    "#Confirmed none of these were rated by the MPAA\n",
    "imdb_reasons = imdb_reasons.loc[~(imdb_reasons['imdb_ids'].isin(['tt0106405', 'tt2727252', 'tt0173796', 'tt0216487', \n",
    "                                                                    'tt0275624', 'tt0290759', 'tt12069870', 'tt0438908', \n",
    "                                                                    'tt1249415', 'tt1522334', 'tt4789192', 'tt7098674',\n",
    "                                                                    'tt6769936', 'tt8332364', 'tt7779590', 'tt6657132']))]"
   ]
  },
  {
   "cell_type": "code",
   "execution_count": null,
   "id": "5c629d39",
   "metadata": {},
   "outputs": [],
   "source": [
    "# Identified which of these needed to be removed\n",
    "imdb_reasons.loc[(imdb_reasons['mpaa_cert_#'] != 'nan')\n",
    "                 &\n",
    "                 (imdb_reasons.duplicated(subset = ['rating_reasons', 'mpaa_cert_#', 'mpaa_cert_note'], keep=False))].sort_values('mpaa_cert_#')"
   ]
  },
  {
   "cell_type": "code",
   "execution_count": null,
   "id": "a1091e12",
   "metadata": {},
   "outputs": [],
   "source": [
    "#Confirmed none of these were rated by the MPAA\n",
    "imdb_reasons = imdb_reasons.loc[~(imdb_reasons['imdb_ids'].isin(['tt0103888', 'tt1213590','tt5852632', 'tt8246646', \n",
    "                                                                 'tt0903606', 'tt9278312', 'tt2990140', 'tt10525124']))]"
   ]
  },
  {
   "cell_type": "code",
   "execution_count": null,
   "id": "d2910fe6",
   "metadata": {},
   "outputs": [],
   "source": [
    "# The cert # for the 2018 movie should be 51820, the reating reasons are the same but for one word\n",
    "imdb_reasons.loc[imdb_reasons['imdb_titles'] == 'The Guilty']"
   ]
  },
  {
   "cell_type": "code",
   "execution_count": null,
   "id": "fdf6c23c",
   "metadata": {},
   "outputs": [],
   "source": [
    "imdb_reasons.loc[(imdb_reasons['imdb_titles'] == 'The Guilty')\n",
    "                 &\n",
    "                 (imdb_reasons['release_year'] == '2018'), ['rating_reasons', 'mpaa_cert_#']] = ['None', '51820']"
   ]
  },
  {
   "cell_type": "code",
   "execution_count": null,
   "id": "14a9fc59",
   "metadata": {},
   "outputs": [],
   "source": [
    "# tt1663333 Triggerman cert # is 46371, need to drop other one\n",
    "imdb_reasons = (\n",
    "    imdb_reasons.loc[~((imdb_reasons['imdb_ids'] == 'tt1663333')\n",
    "                       &\n",
    "                       (imdb_reasons['mpaa_cert_#'] == '46137'))]\n",
    ")"
   ]
  },
  {
   "cell_type": "code",
   "execution_count": null,
   "id": "9617d01b",
   "metadata": {},
   "outputs": [],
   "source": [
    "# Remaing certificate # is correct, but reason is NOT \n",
    "imdb_reasons.loc[imdb_reasons['imdb_titles'] == 'Triggerman', 'rating_reasons'] = 'None'"
   ]
  },
  {
   "cell_type": "code",
   "execution_count": null,
   "id": "62586a6a",
   "metadata": {
    "scrolled": true
   },
   "outputs": [],
   "source": [
    "# Identify which of these needs to be removed from data set\n",
    "imdb_reasons.loc[(imdb_reasons['mpaa_cert_#'] != 'nan')\n",
    "                 &\n",
    "                 (imdb_reasons.duplicated(subset = ['mpaa_cert_#'], keep=False))].sort_values('mpaa_cert_#')"
   ]
  },
  {
   "cell_type": "code",
   "execution_count": null,
   "id": "24917b16",
   "metadata": {},
   "outputs": [],
   "source": [
    "# Remove movies as identified from above\n",
    "imdb_reasons = imdb_reasons.loc[~(imdb_reasons['imdb_ids'].isin(['tt3216920', 'tt0112995', 'tt0116084', 'tt0393010', \n",
    "                                                                 'tt0291823', 'tt0326441', 'tt1705056', 'tt2290641', \n",
    "                                                                 'tt1645754', 'tt2764834', 'tt2196059', 'tt2828140', \n",
    "                                                                 'tt2949588', 'tt1937101', 'tt5564792', 'tt7812828', \n",
    "                                                                 'tt1492705', 'tt12281046', 'tt11110770', 'tt7402432', \n",
    "                                                                 'tt5594776', 'tt7145178', 'tt8761814', 'tt5828918',\n",
    "                                                                 'tt1441912', 'tt1188484', 'tt1472122', 'tt1072458', \n",
    "                                                                 'tt1362064', 'tt0472102', 'tt0928372', 'tt1077258',\n",
    "                                                                 'tt1006947', 'tt0488967','tt2022357', 'tt1111231' ]))]"
   ]
  },
  {
   "cell_type": "code",
   "execution_count": null,
   "id": "b4073a22",
   "metadata": {
    "scrolled": true
   },
   "outputs": [],
   "source": [
    "# Looking into remaining instances when an mpaa certificate # appears multiple times in the dataset\n",
    "# The \n",
    "imdb_reasons['mpaa_cert_#'].value_counts().head(60)"
   ]
  },
  {
   "cell_type": "code",
   "execution_count": null,
   "id": "3aa755fb",
   "metadata": {},
   "outputs": [],
   "source": [
    "imdb_reasons.loc[imdb_reasons['mpaa_cert_#'] == '40726']"
   ]
  },
  {
   "cell_type": "code",
   "execution_count": null,
   "id": "a72aa341",
   "metadata": {},
   "outputs": [],
   "source": [
    "#reason_redo = \n",
    "imdb_reasons.loc[imdb_reasons['mpaa_cert_#'] == 'None']#['imdb_ids']\n",
    "#reason_redo.to_pickle('../data/reason_redo_Sat.pkl')"
   ]
  },
  {
   "cell_type": "code",
   "execution_count": null,
   "id": "fdc98c94",
   "metadata": {
    "scrolled": true
   },
   "outputs": [],
   "source": [
    "# There are 7408 movies from IMDB that have neither MPAA certificate # nor rating reason in their database\n",
    "imdb_reasons.loc[((imdb_reasons['rating_reasons'] == 'None')\n",
    "                  &\n",
    "                  (imdb_reasons['mpaa_cert_#'] == 'None')\n",
    "                 ) ]"
   ]
  },
  {
   "cell_type": "code",
   "execution_count": null,
   "id": "d167db44",
   "metadata": {
    "scrolled": true
   },
   "outputs": [],
   "source": [
    "imdb_reasons = imdb_reasons.reset_index(drop = True)\n",
    "imdb_reasons.info()"
   ]
  },
  {
   "cell_type": "code",
   "execution_count": null,
   "id": "00ccfa10",
   "metadata": {},
   "outputs": [],
   "source": [
    "imdb_reasons.loc[(imdb_reasons['imdb_titles'] == 'Shattered')\n",
    "                & \n",
    "                 (imdb_reasons['release_year'] == '2007')\n",
    "                &\n",
    "                 (imdb_reasons['votes'] == 32825), ['rating_reasons', 'mpaa_cert_#']] = ['', '43167']"
   ]
  },
  {
   "cell_type": "code",
   "execution_count": null,
   "id": "b8e9d8e2",
   "metadata": {},
   "outputs": [],
   "source": [
    "imdb_reasons.loc[(imdb_reasons['votes'].isna())\n",
    "                 &\n",
    "                 (imdb_reasons['mpaa_cert_#'] == 'None')]\n",
    "\n",
    "# These entries either weren't really rated by the MPAA or even if they were, the lack of \"success\" information \n",
    "#makes attempting to merge them lack meaning\n",
    "imdb_reasons = imdb_reasons.loc[~((imdb_reasons['votes'].isna())\n",
    "                 &\n",
    "                 (imdb_reasons['mpaa_cert_#'] == 'None'))].reset_index(drop=True)"
   ]
  },
  {
   "cell_type": "code",
   "execution_count": null,
   "id": "01c0c0bd",
   "metadata": {},
   "outputs": [],
   "source": [
    "imdb_reasons.to_pickle('../data/imdb_reasons.pkl')"
   ]
  },
  {
   "cell_type": "code",
   "execution_count": null,
   "id": "4eb1f07e",
   "metadata": {
    "scrolled": true
   },
   "outputs": [],
   "source": [
    "imdb_reasons.loc[imdb_reasons['mpaa_cert_#']=='None']['imdb_mpaas'].value_counts()"
   ]
  },
  {
   "cell_type": "code",
   "execution_count": null,
   "id": "b5790f1a",
   "metadata": {},
   "outputs": [],
   "source": [
    "imdb_reasons['mpaa_cert_#'].value_counts().sort_index()"
   ]
  },
  {
   "cell_type": "code",
   "execution_count": null,
   "id": "de55073f",
   "metadata": {},
   "outputs": [],
   "source": [
    "imdb_reasons.loc[imdb_reasons['imdb_mpaas']=='G']"
   ]
  },
  {
   "cell_type": "code",
   "execution_count": null,
   "id": "5575ddf2",
   "metadata": {},
   "outputs": [],
   "source": [
    "imdb_reasons.loc[imdb_reasons['imdb_titles']=='Babes in Toyland']"
   ]
  },
  {
   "cell_type": "code",
   "execution_count": null,
   "id": "8a77a97b",
   "metadata": {},
   "outputs": [],
   "source": []
  }
 ],
 "metadata": {
  "kernelspec": {
   "display_name": "Python 3 (ipykernel)",
   "language": "python",
   "name": "python3"
  },
  "language_info": {
   "codemirror_mode": {
    "name": "ipython",
    "version": 3
   },
   "file_extension": ".py",
   "mimetype": "text/x-python",
   "name": "python",
   "nbconvert_exporter": "python",
   "pygments_lexer": "ipython3",
   "version": "3.9.16"
  }
 },
 "nbformat": 4,
 "nbformat_minor": 5
}
