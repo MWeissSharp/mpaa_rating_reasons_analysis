{
 "cells": [
  {
   "cell_type": "code",
   "execution_count": null,
   "id": "0d2253b8",
   "metadata": {},
   "outputs": [],
   "source": [
    "import pandas as pd\n",
    "import pickle\n",
    "\n",
    "import requests\n",
    "\n",
    "import json\n",
    "from tqdm import tqdm"
   ]
  },
  {
   "cell_type": "markdown",
   "id": "5a602568",
   "metadata": {},
   "source": [
    "Pull in original TMDB dataset"
   ]
  },
  {
   "cell_type": "code",
   "execution_count": null,
   "id": "8ddbf1b6",
   "metadata": {},
   "outputs": [],
   "source": [
    "tmdb_filtered = pd.read_pickle('../data/tmdb_filtered.pkl')\n",
    "tmdb_filtered.info()"
   ]
  },
  {
   "cell_type": "markdown",
   "id": "d0b4dfaf",
   "metadata": {},
   "source": [
    "Do some more cleaning"
   ]
  },
  {
   "cell_type": "code",
   "execution_count": null,
   "id": "d92bd462",
   "metadata": {},
   "outputs": [],
   "source": [
    "# Remove duplicates of the same movie\n",
    "tmdb_filtered = tmdb_filtered.drop_duplicates(subset=['id']).reset_index(drop=True)\n",
    "tmdb_filtered.info()"
   ]
  },
  {
   "cell_type": "code",
   "execution_count": null,
   "id": "ea6a1083",
   "metadata": {
    "scrolled": true
   },
   "outputs": [],
   "source": [
    "mpaa = pd.read_csv('../data/clean_mpaa_data.csv').drop(columns = 'Unnamed: 0')\n",
    "mpaa.info()"
   ]
  },
  {
   "cell_type": "code",
   "execution_count": null,
   "id": "b4df5188",
   "metadata": {},
   "outputs": [],
   "source": [
    "# Add a column to the MPAA data such that title formatting matches TMDB title formatting\n",
    "mpaa['the_fix'] = mpaa['title'].str.endswith(', The')\n",
    "mpaa['a_fix'] = mpaa['title'].str.endswith(', A')\n",
    "mpaa['tmdb_title'] = mpaa['title'].str.replace(', The', '').str.replace(', A', '')\n",
    "mpaa.loc[mpaa['the_fix'] == True, 'tmdb_title'] = 'The ' + mpaa['tmdb_title']\n",
    "mpaa.loc[mpaa['a_fix'] == True, 'tmdb_title'] = 'A ' + mpaa['tmdb_title']\n",
    "mpaa['tmdb_title'] = mpaa['tmdb_title'].fillna(mpaa['title'])\n",
    "mpaa = mpaa.drop(columns = ['the_fix', 'a_fix'])"
   ]
  },
  {
   "cell_type": "code",
   "execution_count": null,
   "id": "9f0ec967",
   "metadata": {},
   "outputs": [],
   "source": [
    "# Keep only movies from the TMDB data that have a matching title in the MPAA data\n",
    "tmdb = tmdb_filtered.loc[tmdb_filtered['title'].isin(mpaa['tmdb_title'])].reset_index(drop=True)\n",
    "tmdb.info()"
   ]
  },
  {
   "cell_type": "markdown",
   "id": "a8bc42e2",
   "metadata": {},
   "source": [
    "The TMDB dataset still has ~7000 more rows than the MPAA dataset. Take a look at movies with the same titles."
   ]
  },
  {
   "cell_type": "code",
   "execution_count": null,
   "id": "f1f537ed",
   "metadata": {},
   "outputs": [],
   "source": [
    "tmdb_dups = tmdb.loc[tmdb.duplicated(subset=['title', 'release_year'], keep=False)].groupby('title')['id'].count().reset_index()"
   ]
  },
  {
   "cell_type": "code",
   "execution_count": null,
   "id": "7a39dd3a",
   "metadata": {},
   "outputs": [],
   "source": [
    "tmdb_dups#.loc[tmdb_dups['id'] >= 10]"
   ]
  },
  {
   "cell_type": "markdown",
   "id": "0c96a33d",
   "metadata": {},
   "source": [
    "4633 movie titles appear at least twice, 391 of them appear at least 10 time   \n",
    "1176 movie titles appear twice in the same year"
   ]
  },
  {
   "cell_type": "markdown",
   "id": "3ef35d93",
   "metadata": {},
   "source": [
    "#### Bring in additional data about these movies to hopefully make matching more successful"
   ]
  },
  {
   "cell_type": "code",
   "execution_count": null,
   "id": "99db95d8",
   "metadata": {},
   "outputs": [],
   "source": [
    "# open and access api key\n",
    "with open('../data/mpaa_keys.json') as fi:\n",
    "    credentials = json.load(fi)\n",
    "    \n",
    "my_token = credentials['tmdb_token']"
   ]
  },
  {
   "cell_type": "code",
   "execution_count": null,
   "id": "f9847594",
   "metadata": {},
   "outputs": [],
   "source": [
    "url = \"https://api.themoviedb.org/3/movie/812?append_to_response=%release_dates%&language=en-US\"\n",
    "\n",
    "headers = {\n",
    "    \"accept\": \"application/json\",\n",
    "    \"Authorization\": f\"Bearer {my_token}\"\n",
    "}\n",
    "\n",
    "response = requests.get(url, headers=headers)\n"
   ]
  },
  {
   "cell_type": "code",
   "execution_count": null,
   "id": "fad5379b",
   "metadata": {
    "scrolled": true
   },
   "outputs": [],
   "source": [
    "response"
   ]
  },
  {
   "cell_type": "code",
   "execution_count": null,
   "id": "b757857d",
   "metadata": {},
   "outputs": [],
   "source": [
    "response.json()"
   ]
  },
  {
   "cell_type": "code",
   "execution_count": null,
   "id": "16fae5d8",
   "metadata": {},
   "outputs": [],
   "source": [
    "results = []\n",
    "\n",
    "for n in tqdm(range(0, len(tmdb))):\n",
    "    MOVIE_ID = tmdb['id'].iloc[n]\n",
    "    \n",
    "    endpoint = f'https://api.themoviedb.org/3/movie/{MOVIE_ID}?api_key=my_key&language=en-US&append_to_response=release_dates'\n",
    "    \n",
    "    headers = {\n",
    "    \"accept\": \"application/json\",\n",
    "    \"Authorization\": f\"Bearer {my_token}\"\n",
    "    }\n",
    "    \n",
    "    response = requests.get(endpoint, headers=headers)\n",
    "    \n",
    "    result = response.json()\n",
    "    \n",
    "    results.append(result)"
   ]
  },
  {
   "cell_type": "code",
   "execution_count": null,
   "id": "c44cb644",
   "metadata": {},
   "outputs": [],
   "source": [
    "tmdb_results = pd.json_normalize(results).drop(columns=['adult', 'backdrop_path','homepage','poster_path', 'belongs_to_collection.poster_path',\n",
    "                                         'belongs_to_collection.backdrop_path', 'belongs_to_collection', 'success', \n",
    "                                         'status_code', 'status_message'])"
   ]
  },
  {
   "cell_type": "code",
   "execution_count": null,
   "id": "cd3c6ce9",
   "metadata": {},
   "outputs": [],
   "source": [
    "tmdb_results = tmdb_results[['id', 'imdb_id', 'title', 'original_title', 'release_date', 'budget', 'revenue', 'popularity',\n",
    "                             'vote_average', 'vote_count', 'release_dates.results', 'genres',  'original_language',\n",
    "                             'overview','production_companies', 'production_countries',  'runtime', 'spoken_languages', \n",
    "                             'status', 'tagline',  'video', 'belongs_to_collection.id', 'belongs_to_collection.name']]\n",
    "tmdb_results['release_date'] = pd.to_datetime(tmdb_results['release_date'])"
   ]
  },
  {
   "cell_type": "markdown",
   "id": "23094541",
   "metadata": {},
   "source": [
    "There were some null values in the results (6). These appear to occur with the same movie was somehow associated with multiple id values, so just dropping the 6 null rows associated with the extraneous ids."
   ]
  },
  {
   "cell_type": "code",
   "execution_count": null,
   "id": "8b10ade5",
   "metadata": {
    "scrolled": true
   },
   "outputs": [],
   "source": [
    "tmdb_results = tmdb_results.dropna(how='all').reset_index(drop=True)"
   ]
  },
  {
   "cell_type": "code",
   "execution_count": null,
   "id": "7777451c",
   "metadata": {},
   "outputs": [],
   "source": [
    "tmdb_results['release_year'] = tmdb_results['release_date'].dt.year"
   ]
  },
  {
   "cell_type": "code",
   "execution_count": null,
   "id": "f0d9777c",
   "metadata": {},
   "outputs": [],
   "source": [
    "tmdb.info()"
   ]
  },
  {
   "cell_type": "code",
   "execution_count": null,
   "id": "90589390",
   "metadata": {
    "scrolled": false
   },
   "outputs": [],
   "source": [
    "import pickle\n",
    "#tmdb_results.to_pickle('../data/tmdb_results.pkl')"
   ]
  },
  {
   "cell_type": "code",
   "execution_count": null,
   "id": "b73f3b78",
   "metadata": {},
   "outputs": [],
   "source": []
  }
 ],
 "metadata": {
  "kernelspec": {
   "display_name": "Python 3 (ipykernel)",
   "language": "python",
   "name": "python3"
  },
  "language_info": {
   "codemirror_mode": {
    "name": "ipython",
    "version": 3
   },
   "file_extension": ".py",
   "mimetype": "text/x-python",
   "name": "python",
   "nbconvert_exporter": "python",
   "pygments_lexer": "ipython3",
   "version": "3.9.16"
  }
 },
 "nbformat": 4,
 "nbformat_minor": 5
}
