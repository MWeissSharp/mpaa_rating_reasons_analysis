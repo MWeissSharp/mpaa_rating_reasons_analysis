{
 "cells": [
  {
   "cell_type": "code",
   "execution_count": null,
   "id": "fd551397",
   "metadata": {},
   "outputs": [],
   "source": [
    "import pandas as pd\n",
    "import numpy as np\n",
    "import pickle\n",
    "import re"
   ]
  },
  {
   "cell_type": "code",
   "execution_count": null,
   "id": "8926d0d1",
   "metadata": {},
   "outputs": [],
   "source": [
    "imdb_mpaa = pd.read_pickle('../data/final_imdb_mpaa.pkl')"
   ]
  },
  {
   "cell_type": "code",
   "execution_count": null,
   "id": "723fe29f",
   "metadata": {},
   "outputs": [],
   "source": [
    "# Correct datatypes\n",
    "\n",
    "imdb_mpaa['metascores'] = imdb_mpaa['metascores'].replace('', np.nan).astype(\"Int64\")\n",
    "imdb_mpaa['imdb_ratings'] = imdb_mpaa['imdb_ratings'].astype(float)\n",
    "\n",
    "imdb_mpaa['gross_num'] = imdb_mpaa['gross'].str.strip('M$').astype(float) * 1000000\n",
    "\n",
    "imdb_mpaa['release_year'] = imdb_mpaa['release_year'].astype(\"Int64\")\n",
    "imdb_mpaa['rating_year'] = imdb_mpaa['rating_year'].astype(\"Int64\")"
   ]
  },
  {
   "cell_type": "code",
   "execution_count": null,
   "id": "77b66d13",
   "metadata": {},
   "outputs": [],
   "source": [
    "# Add a column to make it easier to calculate weighted average imdb_ratings\n",
    "imdb_mpaa['vote*rating'] = imdb_mpaa['votes'] * imdb_mpaa['imdb_ratings']"
   ]
  },
  {
   "cell_type": "code",
   "execution_count": null,
   "id": "778922e2",
   "metadata": {
    "scrolled": true
   },
   "outputs": [],
   "source": [
    "imdb_mpaa.info()"
   ]
  },
  {
   "cell_type": "code",
   "execution_count": null,
   "id": "4400008f",
   "metadata": {},
   "outputs": [],
   "source": [
    "imdb_mpaa.groupby('mpaa_rating').agg(\n",
    "    count_gross = ('gross_num', 'count'),\n",
    "    avg_gross = ('gross_num', 'mean'),\n",
    "    med_gross = ('gross_num', 'median'),\n",
    "    max_gross = ('gross_num', 'max'),\n",
    "    sum_gross = ('gross_num', 'sum'),\n",
    "    count_votes = ('votes', 'count'), \n",
    "    avg_votes = ('votes', 'mean'),\n",
    "    med_votes = ('votes', 'median'),\n",
    "    max_votes = ('votes', 'max'),\n",
    "    sum_votes = ('votes', 'sum'),\n",
    "    sum_vote_rating = ('vote*rating', 'sum'),\n",
    "    count_imdb_ratings = ('imdb_ratings', 'count'), \n",
    "    avg_imdb_ratings = ('imdb_ratings', 'mean'),\n",
    "    med_imdb_ratings = ('imdb_ratings', 'median'),\n",
    "    max_imdb_ratings = ('imdb_ratings', 'max'),\n",
    "    count_metascores = ('metascores', 'count'), \n",
    "    avg_metascores = ('metascores', 'mean'),\n",
    "    med_metascores = ('metascores', 'median'),\n",
    "    max_metascores = ('metascores', 'max'),\n",
    "    total_movies = ('clean_titles', 'count')\n",
    "\n",
    ")"
   ]
  },
  {
   "cell_type": "code",
   "execution_count": null,
   "id": "efba12eb",
   "metadata": {},
   "outputs": [],
   "source": [
    "imdb_mpaa.columns"
   ]
  },
  {
   "cell_type": "code",
   "execution_count": null,
   "id": "a0f40683",
   "metadata": {},
   "outputs": [],
   "source": [
    "# Rename columns to match data setup in Shiny app\n",
    "imdb_mpaa = imdb_mpaa.rename(columns = {\n",
    "    'clean_titles' : 'title', \n",
    "    'rating_year' : 'year', \n",
    "    'mpaa_rating' : 'rating', \n",
    "    'mpaa_reason' : 'reason',\n",
    "    'mpaa_cert_#' : 'mpaa_certificate',\n",
    "    'vote*rating' : 'vote_x_rating'\n",
    "})"
   ]
  },
  {
   "cell_type": "code",
   "execution_count": null,
   "id": "2ec00094",
   "metadata": {},
   "outputs": [],
   "source": [
    "# removing movies rated in 2023 since we don't have a full year of data to use for comparison\n",
    "imdb_mpaa = imdb_mpaa.loc[imdb_mpaa['year'] < 2023].reset_index(drop= True)\n",
    "\n",
    "# Dropping movies rated 1991 and earlier, prior to rating reasons being required\n",
    "imdb_mpaa = imdb_mpaa.loc[~(imdb_mpaa['year'] <= 1991)].reset_index(drop= True)"
   ]
  },
  {
   "cell_type": "code",
   "execution_count": null,
   "id": "7aa574b3",
   "metadata": {
    "scrolled": true
   },
   "outputs": [],
   "source": [
    "# There are 3 non-G movies without reasons from 1992. Dropping them as well\n",
    "imdb_mpaa = imdb_mpaa.loc[~((imdb_mpaa['reason'] == '')\n",
    "                            &\n",
    "                            (imdb_mpaa['rating'] != 'G'))].reset_index(drop= True)"
   ]
  },
  {
   "cell_type": "code",
   "execution_count": null,
   "id": "5266b65b",
   "metadata": {},
   "outputs": [],
   "source": [
    "imdb_mpaa.loc[imdb_mpaa['rating'] == 'G', 'reason'] = 'Rated G'"
   ]
  },
  {
   "cell_type": "code",
   "execution_count": null,
   "id": "99e15c53",
   "metadata": {},
   "outputs": [],
   "source": [
    "imdb_mpaa.info()"
   ]
  },
  {
   "cell_type": "code",
   "execution_count": null,
   "id": "37d47faf",
   "metadata": {},
   "outputs": [],
   "source": [
    "imdb_mpaa.loc[imdb_mpaa['title'].str.contains(\"CERTIFICATE\")]"
   ]
  },
  {
   "cell_type": "code",
   "execution_count": null,
   "id": "a7378214",
   "metadata": {},
   "outputs": [],
   "source": [
    "imdb_mpaa.loc[imdb_mpaa['title'].str.contains(\"Beginner's Guide To Skinny\"), \"title\"] = \"The Beginner's Guide to Skinny-Dipping\""
   ]
  },
  {
   "cell_type": "code",
   "execution_count": null,
   "id": "a3fa27bf",
   "metadata": {},
   "outputs": [],
   "source": [
    "imdb_mpaa.loc[imdb_mpaa['title'].str.contains(\"Babies\"), \"title\"] = \"Babies\""
   ]
  },
  {
   "cell_type": "code",
   "execution_count": null,
   "id": "6402b2c5",
   "metadata": {},
   "outputs": [],
   "source": [
    "imdb_mpaa.loc[imdb_mpaa['title'].str.contains(\"Hobbit: An\"), \"title\"] = \"The Hobbit: An Unexpected Journey Extended Edition\""
   ]
  },
  {
   "cell_type": "code",
   "execution_count": null,
   "id": "8328c57f",
   "metadata": {},
   "outputs": [],
   "source": [
    "imdb_mpaa.to_csv('../data/imdb_mpaa_clean.csv')"
   ]
  },
  {
   "cell_type": "code",
   "execution_count": null,
   "id": "03159e6b",
   "metadata": {},
   "outputs": [],
   "source": [
    "imdb_mpaa['votes'].describe()"
   ]
  },
  {
   "cell_type": "code",
   "execution_count": null,
   "id": "f242ca83",
   "metadata": {
    "scrolled": false
   },
   "outputs": [],
   "source": [
    "imdb_mpaa.loc[imdb_mpaa['title'].str.contains('Showgirls')]"
   ]
  },
  {
   "cell_type": "code",
   "execution_count": null,
   "id": "d4050381",
   "metadata": {},
   "outputs": [],
   "source": [
    "imdb_mpaa.loc[(~imdb_mpaa['votes'].isna())\n",
    "             &\n",
    "              (imdb_mpaa['imdb_ratings'].isna())]"
   ]
  },
  {
   "cell_type": "code",
   "execution_count": null,
   "id": "df15c74f",
   "metadata": {},
   "outputs": [],
   "source": [
    "imdb_mpaa.loc[~(imdb_mpaa['gross_num'].isna())].groupby(['rating', 'year'])['gross_num'].mean().reset_index()"
   ]
  },
  {
   "cell_type": "code",
   "execution_count": null,
   "id": "312fba49",
   "metadata": {
    "scrolled": true
   },
   "outputs": [],
   "source": [
    "imdb_mpaa.loc[~(imdb_mpaa['gross_num'].isna())]['reason'].value_counts()"
   ]
  },
  {
   "cell_type": "code",
   "execution_count": null,
   "id": "d162acdb",
   "metadata": {},
   "outputs": [],
   "source": [
    "imdb_mpaa.loc[imdb_mpaa['rating'] == 'G', 'reason']"
   ]
  },
  {
   "cell_type": "code",
   "execution_count": null,
   "id": "47e0f934",
   "metadata": {},
   "outputs": [],
   "source": []
  }
 ],
 "metadata": {
  "kernelspec": {
   "display_name": "Python 3 (ipykernel)",
   "language": "python",
   "name": "python3"
  },
  "language_info": {
   "codemirror_mode": {
    "name": "ipython",
    "version": 3
   },
   "file_extension": ".py",
   "mimetype": "text/x-python",
   "name": "python",
   "nbconvert_exporter": "python",
   "pygments_lexer": "ipython3",
   "version": "3.9.16"
  }
 },
 "nbformat": 4,
 "nbformat_minor": 5
}
