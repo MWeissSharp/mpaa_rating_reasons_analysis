{
 "cells": [
  {
   "cell_type": "markdown",
   "id": "082a8398",
   "metadata": {},
   "source": [
    "#### Notes\n",
    "- This notebook is using the IMDB IDs collected from the first scrape to retrieve the parental guidance page for each movie\n",
    "- From this page, the rating reason will be scraped (if available) as well as the MPAA Certificate #\n",
    "- This only applies to movies rated something other than \"G\" since G rated movies don't have rating reasons"
   ]
  },
  {
   "cell_type": "code",
   "execution_count": null,
   "id": "ed184252",
   "metadata": {},
   "outputs": [],
   "source": [
    "import requests\n",
    "from bs4 import BeautifulSoup as BS\n",
    "\n",
    "import pandas as pd\n",
    "import numpy as np\n",
    "import pickle\n",
    "import re\n",
    "from tqdm import tqdm"
   ]
  },
  {
   "cell_type": "code",
   "execution_count": null,
   "id": "ceae030d",
   "metadata": {},
   "outputs": [],
   "source": [
    "first = pd.read_pickle('../data/imdb1992-2001.pkl')\n",
    "second = pd.read_pickle('../data/imdb2002-2009.pkl')\n",
    "third = pd.read_pickle('../data/imdb2010-2018.pkl')\n",
    "fourth = pd.read_pickle('../data/imdb2019-2021.pkl')\n",
    "fifth = pd.read_pickle('../data/imdb2022.pkl')\n",
    "\n",
    "imdb = pd.concat([first, second, third, fourth, fifth])\n",
    "imdb.info()"
   ]
  },
  {
   "cell_type": "code",
   "execution_count": null,
   "id": "1c4123d9",
   "metadata": {},
   "outputs": [],
   "source": [
    "reason_ids = imdb.loc[imdb['imdb_mpaas'] != 'G'].reset_index(drop=True)['imdb_ids']\n",
    "len(reason_ids)"
   ]
  },
  {
   "cell_type": "code",
   "execution_count": null,
   "id": "826f961d",
   "metadata": {},
   "outputs": [],
   "source": [
    "ids = []\n",
    "reasons = []\n",
    "notes = []\n",
    "\n",
    "for r_id in reason_ids:\n",
    "    url = f'https://www.imdb.com/title/{r_id}/parentalguide?ref_=tt_stry_pg'\n",
    "    soup = BS(requests.get(url).text)\n",
    "    try:\n",
    "        reason = soup.find('tr', attrs = {'id': \"mpaa-rating\"}).text.replace('MPAA', '').strip()\n",
    "    except:\n",
    "        reason = \"None\"\n",
    "        \n",
    "    try:\n",
    "        note = re.findall('United States:.+\\n.*(?:certificate|No. )(.+)\\)\\n', soup.find_all('td', attrs = {'class' : ''})[1].text)\n",
    "    except:\n",
    "        note = [\"None\"]\n",
    "    \n",
    "    ids.append(r_id)\n",
    "    reasons.append(reason)\n",
    "    notes.append(note)\n",
    "    \n",
    "    \n",
    "reason_df = pd.DataFrame(\n",
    "    {'imdb_ids' : ids,\n",
    "     'rating_reasons' : reasons,\n",
    "     'rating_notes' : notes}\n",
    "\n",
    ")"
   ]
  },
  {
   "cell_type": "code",
   "execution_count": null,
   "id": "8e85707e",
   "metadata": {},
   "outputs": [],
   "source": [
    "missing_reasons = reason_df.loc[reason_df['rating_reasons'] == 'None']['imdb_ids']"
   ]
  },
  {
   "cell_type": "code",
   "execution_count": null,
   "id": "5c8539b9",
   "metadata": {},
   "outputs": [],
   "source": [
    "ids = []\n",
    "reasons = []\n",
    "notes = []\n",
    "\n",
    "for r_id in tqdm(missing_reasons):\n",
    "    url = f'https://www.imdb.com/title/{r_id}/parentalguide?ref_=tt_stry_pg'\n",
    "    soup = BS(requests.get(url).text)\n",
    "    try:\n",
    "        reason = soup.find('tr', attrs = {'id': \"mpaa-rating\"}).text.replace('MPAA', '').strip()\n",
    "    except:\n",
    "        reason = \"None\"\n",
    "        \n",
    "    try:\n",
    "        note = re.findall('United States:.+\\n.*(?:certificate|No. )(.+)\\)\\n', soup.find('td', attrs = {'class' : ''}).text)\n",
    "    except:\n",
    "        note = [\"None\"]\n",
    "    \n",
    "    ids.append(r_id)\n",
    "    reasons.append(reason)\n",
    "    notes.append(note)\n",
    "    \n",
    "    \n",
    "missing_reason_df = pd.DataFrame(\n",
    "    {'imdb_ids' : ids,\n",
    "     'rating_reasons' : reasons,\n",
    "     'rating_notes' : notes})"
   ]
  },
  {
   "cell_type": "code",
   "execution_count": null,
   "id": "ea51b44c",
   "metadata": {},
   "outputs": [],
   "source": [
    "reason_df = pd.concat([reason_df.loc[~(reason_df['imdb_ids'].isin(missing_reasons))], missing_reason_df])"
   ]
  },
  {
   "cell_type": "code",
   "execution_count": null,
   "id": "647f4b39",
   "metadata": {},
   "outputs": [],
   "source": [
    "g_ids = imdb.loc[imdb['imdb_mpaas'] == 'G'].reset_index(drop=True)['imdb_ids']"
   ]
  },
  {
   "cell_type": "code",
   "execution_count": null,
   "id": "a8a9209e",
   "metadata": {},
   "outputs": [],
   "source": [
    "ids = []\n",
    "reasons = []\n",
    "notes = []\n",
    "\n",
    "for r_id in tqdm(g_ids):\n",
    "    url = f'https://www.imdb.com/title/{r_id}/parentalguide?ref_=tt_stry_pg'\n",
    "    soup = BS(requests.get(url).text)\n",
    "    \n",
    "    reason = \"\"\n",
    "        \n",
    "    try:\n",
    "        note = re.findall('United States:.+\\n.*(?:certificate|No. |pca|cert|#)(.+)\\)\\n', soup.find('td', attrs = {'class' : ''}).text)\n",
    "    except:\n",
    "        note = [\"None\"]\n",
    "    \n",
    "    ids.append(r_id)\n",
    "    reasons.append(reason)\n",
    "    notes.append(note)\n",
    "    \n",
    "    \n",
    "g_reason_df = pd.DataFrame(\n",
    "    {'imdb_ids' : ids,\n",
    "     'rating_reasons' : reasons,\n",
    "     'mpaa_cert_#' : notes})"
   ]
  },
  {
   "cell_type": "code",
   "execution_count": null,
   "id": "662734f8",
   "metadata": {},
   "outputs": [],
   "source": [
    "reason_df = pd.concat([reason_df, g_reason_df])"
   ]
  },
  {
   "cell_type": "code",
   "execution_count": null,
   "id": "90f77a31",
   "metadata": {},
   "outputs": [],
   "source": [
    "still_missing = reason_df.loc[(reason_df['rating_reasons'] == 'None')\n",
    "                              &\n",
    "                              (reason_df['rating_notes'].isna())]['imdb_ids']"
   ]
  },
  {
   "cell_type": "code",
   "execution_count": null,
   "id": "9cd5b1c8",
   "metadata": {},
   "outputs": [],
   "source": [
    "ids = []\n",
    "reasons = []\n",
    "notes = []\n",
    "\n",
    "for r_id in tqdm(still_missing):\n",
    "    url = f'https://www.imdb.com/title/{r_id}/parentalguide?ref_=tt_stry_pg'\n",
    "    soup = BS(requests.get(url).text)\n",
    "    \n",
    "    reason = \"\"\n",
    "        \n",
    "    try:\n",
    "        note = re.findall('United States:.+\\n.*(?:certificate|No. |pca|cert|#)(.+)\\)\\n', soup.find('td', attrs = {'class' : ''}).text)\n",
    "    except:\n",
    "        note = [\"None\"]\n",
    "    \n",
    "    ids.append(r_id)\n",
    "    reasons.append(reason)\n",
    "    notes.append(note)\n",
    "    \n",
    "    \n",
    "still_missing_reason_df = pd.DataFrame(\n",
    "    {'imdb_ids' : ids,\n",
    "     'rating_reasons' : reasons,\n",
    "     'mpaa_cert_#' : notes})"
   ]
  },
  {
   "cell_type": "code",
   "execution_count": null,
   "id": "0f9050e6",
   "metadata": {},
   "outputs": [],
   "source": [
    "reason_df = pd.concat([reason_df.loc[reason_df['imdb_ids'].isin(still_missing), still_missing_reason_df]"
   ]
  },
  {
   "cell_type": "code",
   "execution_count": null,
   "id": "4670722d",
   "metadata": {},
   "outputs": [],
   "source": [
    "reason_redos = pd.read_pickle('../data/reason_redo_Sat.pkl')"
   ]
  },
  {
   "cell_type": "code",
   "execution_count": null,
   "id": "2bd61580",
   "metadata": {},
   "outputs": [],
   "source": [
    "ids = []\n",
    "reasons = []\n",
    "notes = []\n",
    "\n",
    "for r_id in tqdm(reason_redos):\n",
    "    url = f'https://www.imdb.com/title/{r_id}/parentalguide?ref_=tt_stry_pg'\n",
    "    soup = BS(requests.get(url).text)\n",
    "    try:\n",
    "        reason = soup.find('tr', attrs = {'id': \"mpaa-rating\"}).text.replace('MPAA', '').strip()\n",
    "    except:\n",
    "        reason = \"None\"\n",
    "        \n",
    "    try:\n",
    "        note = re.findall('United States:.+\\n.*(?:certificate|Certificate|CERTIFICATE|No\\.|NO\\.|pca|cert|#)(.+)\\)\\n', soup.find_all('td', attrs = {'class' : ''})[1].text)\n",
    "    except:\n",
    "        note = [\"None\"]\n",
    "    \n",
    "    ids.append(r_id)\n",
    "    reasons.append(reason)\n",
    "    notes.append(note)\n",
    "    \n",
    "    \n",
    "reason_redo_df_aa = pd.DataFrame(\n",
    "    {'imdb_ids' : ids,\n",
    "     'rating_reasons' : reasons,\n",
    "     'mpaa_cert_#' : notes})"
   ]
  },
  {
   "cell_type": "code",
   "execution_count": null,
   "id": "7fcf0ee3",
   "metadata": {},
   "outputs": [],
   "source": [
    "reason_redo_df_a"
   ]
  },
  {
   "cell_type": "code",
   "execution_count": null,
   "id": "68dc2fcd",
   "metadata": {},
   "outputs": [],
   "source": [
    "reason_redo_aa = reason_redo_df_aa.explode('mpaa_cert_#').reset_index(drop = True)"
   ]
  },
  {
   "cell_type": "code",
   "execution_count": null,
   "id": "85a68fb4",
   "metadata": {},
   "outputs": [],
   "source": [
    "reason_redo_aa['mpaa_cert_#'] = [str(x).strip().replace('#', '') for x in reason_redo_aa['mpaa_cert_#']]"
   ]
  },
  {
   "cell_type": "code",
   "execution_count": null,
   "id": "ba5b9b8f",
   "metadata": {},
   "outputs": [],
   "source": [
    "reason_redo_aa[['mpaa_cert_#', 'mpaa_cert_note']] = reason_redo_aa['mpaa_cert_#'].str.split(',', n=1, expand=True)"
   ]
  },
  {
   "cell_type": "code",
   "execution_count": null,
   "id": "c0040e84",
   "metadata": {
    "scrolled": true
   },
   "outputs": [],
   "source": [
    "redo_b = reason_redo_a.loc[(reason_redo_a['mpaa_cert_#'].isin(['None', 'nan','']))\n",
    "                           &\n",
    "                           (reason_redo_a['rating_reasons'] == 'None')]['imdb_ids'].reset_index(drop=True)"
   ]
  },
  {
   "cell_type": "code",
   "execution_count": null,
   "id": "a805ff73",
   "metadata": {},
   "outputs": [],
   "source": [
    "redo_b"
   ]
  },
  {
   "cell_type": "code",
   "execution_count": null,
   "id": "bd3800c2",
   "metadata": {},
   "outputs": [],
   "source": [
    "reason_redo_aa.loc[~((reason_redo_aa['mpaa_cert_#'].isin(['None', 'nan']))\n",
    "                                     &\n",
    "                                     (reason_redo_aa['mpaa_cert_#'] == 'None'))]"
   ]
  },
  {
   "cell_type": "code",
   "execution_count": null,
   "id": "adc870eb",
   "metadata": {
    "scrolled": true
   },
   "outputs": [],
   "source": [
    "redo_success_a"
   ]
  },
  {
   "cell_type": "code",
   "execution_count": null,
   "id": "54c50af1",
   "metadata": {},
   "outputs": [],
   "source": [
    "reason_redo_a.to_pickle('../data/reason_redo_a.pkl')"
   ]
  },
  {
   "cell_type": "code",
   "execution_count": null,
   "id": "168056dc",
   "metadata": {},
   "outputs": [],
   "source": [
    "ids = []\n",
    "reasons = []\n",
    "notes = []\n",
    "\n",
    "for r_id in tqdm(redo_b):\n",
    "    url = f'https://www.imdb.com/title/{r_id}/parentalguide?ref_=tt_stry_pg'\n",
    "    soup = BS(requests.get(url).text)\n",
    "    try:\n",
    "        reason = soup.find('tr', attrs = {'id': \"mpaa-rating\"}).text.replace('MPAA', '').strip()\n",
    "    except:\n",
    "        reason = \"None\"\n",
    "        \n",
    "    try:\n",
    "        note = re.findall('United States:.+\\n.*(?:certificate|No\\.|NO\\.|pca|cert|#)(.+)\\)\\n', soup.find('td', attrs = {'class' : ''}).text)\n",
    "    except:\n",
    "        note = [\"None\"]\n",
    "    \n",
    "    ids.append(r_id)\n",
    "    reasons.append(reason)\n",
    "    notes.append(note)\n",
    "    \n",
    "    \n",
    "reason_redo_df_b = pd.DataFrame(\n",
    "    {'imdb_ids' : ids,\n",
    "     'rating_reasons' : reasons,\n",
    "     'mpaa_cert_#' : notes})"
   ]
  },
  {
   "cell_type": "code",
   "execution_count": null,
   "id": "dc822ba0",
   "metadata": {},
   "outputs": [],
   "source": [
    "reason_redo_b = reason_redo_df_b.explode('mpaa_cert_#').reset_index(drop = True)"
   ]
  },
  {
   "cell_type": "code",
   "execution_count": null,
   "id": "fcd7844a",
   "metadata": {},
   "outputs": [],
   "source": [
    "reason_redo_b['mpaa_cert_#'] = [str(x).strip().replace('#', '') for x in reason_redo_b['mpaa_cert_#']]"
   ]
  },
  {
   "cell_type": "code",
   "execution_count": null,
   "id": "e417c623",
   "metadata": {},
   "outputs": [],
   "source": [
    "reason_redo_b.loc[reason_redo_b['rating_reasons'] != 'None']"
   ]
  },
  {
   "cell_type": "code",
   "execution_count": null,
   "id": "a95ac399",
   "metadata": {
    "scrolled": true
   },
   "outputs": [],
   "source": [
    "reason_redo_b[['mpaa_cert_#', 'mpaa_cert_note']] = reason_redo_b['mpaa_cert_#'].str.split(',', n=1, expand=True)"
   ]
  },
  {
   "cell_type": "code",
   "execution_count": null,
   "id": "3973cb4b",
   "metadata": {
    "scrolled": true
   },
   "outputs": [],
   "source": [
    "redo_b = reason_redo_a.loc[(reason_redo_a['mpaa_cert_#'].isin(['None', 'nan','']))]['imdb_ids'].reset_index(drop=True)"
   ]
  },
  {
   "cell_type": "code",
   "execution_count": null,
   "id": "d5a23e5b",
   "metadata": {},
   "outputs": [],
   "source": [
    "redo_success_a = reason_redo_a.loc[~(reason_redo_a['mpaa_cert_#'].isin(['None', 'nan']))]"
   ]
  },
  {
   "cell_type": "code",
   "execution_count": null,
   "id": "cbee4b30",
   "metadata": {},
   "outputs": [],
   "source": []
  },
  {
   "cell_type": "code",
   "execution_count": null,
   "id": "2dabb5cf",
   "metadata": {},
   "outputs": [],
   "source": []
  },
  {
   "cell_type": "code",
   "execution_count": null,
   "id": "cf4b234c",
   "metadata": {},
   "outputs": [],
   "source": [
    "additional_years_reason_df_b"
   ]
  },
  {
   "cell_type": "code",
   "execution_count": null,
   "id": "aa837a32",
   "metadata": {},
   "outputs": [],
   "source": [
    "ids = []\n",
    "reasons = []\n",
    "notes = []\n",
    "\n",
    "for r_id in tqdm(g_ids):\n",
    "    url = f'https://www.imdb.com/title/{r_id}/parentalguide?ref_=tt_stry_pg'\n",
    "    soup = BS(requests.get(url).text)\n",
    "    \n",
    "    reason = \"\"\n",
    "        \n",
    "    try:\n",
    "        note = re.findall('United States:.+\\n.*(?:certificate|No\\. |pca|cert|#)(.+)\\)\\n', soup.find_all('td', attrs = {'class' : ''}[1]).text)\n",
    "    except:\n",
    "        note = [\"None\"]\n",
    "    \n",
    "    ids.append(r_id)\n",
    "    reasons.append(reason)\n",
    "    notes.append(note)\n",
    "    \n",
    "    \n",
    "g_reason_df_b = pd.DataFrame(\n",
    "    {'imdb_ids' : ids,\n",
    "     'rating_reasons' : reasons,\n",
    "     'mpaa_cert_#' : notes})"
   ]
  },
  {
   "cell_type": "code",
   "execution_count": null,
   "id": "7c0d1ed0",
   "metadata": {},
   "outputs": [],
   "source": []
  },
  {
   "cell_type": "code",
   "execution_count": null,
   "id": "c74a2141",
   "metadata": {},
   "outputs": [],
   "source": [
    "additional_reasons = additional_years_reason_df.explode('mpaa_cert_#').reset_index(drop = True)"
   ]
  },
  {
   "cell_type": "code",
   "execution_count": null,
   "id": "e90ddd9d",
   "metadata": {},
   "outputs": [],
   "source": [
    "additional_reasons['mpaa_cert_#'] = [str(x).strip().replace('#', '') for x in additional_reasons['mpaa_cert_#']]"
   ]
  },
  {
   "cell_type": "code",
   "execution_count": null,
   "id": "f6145617",
   "metadata": {},
   "outputs": [],
   "source": [
    "additional_reasons[['mpaa_cert_#', 'mpaa_cert_note']] = additional_reasons['mpaa_cert_#'].str.split(',', n=1, expand=True)"
   ]
  },
  {
   "cell_type": "code",
   "execution_count": null,
   "id": "658388cd",
   "metadata": {},
   "outputs": [],
   "source": [
    "additional_reasons.to_pickle('../data/imdb1991_reasons.pkl')"
   ]
  },
  {
   "cell_type": "code",
   "execution_count": null,
   "id": "ecc2ca78",
   "metadata": {},
   "outputs": [],
   "source": [
    "url = 'https://www.imdb.com/title/tt0101252/parentalguide?ref_=tt_stry_pg'\n",
    "soup = BS(requests.get(url).text)\n",
    "re.findall('United States:.+\\n.*(?:certificate|No. )(.+)\\)\\n', soup.find('td', attrs = {'class' : ''}).text)"
   ]
  },
  {
   "cell_type": "code",
   "execution_count": null,
   "id": "39359f6e",
   "metadata": {},
   "outputs": [],
   "source": [
    "soup.find_all('td', attrs = {'class' : ''})[1]"
   ]
  },
  {
   "cell_type": "code",
   "execution_count": null,
   "id": "c3f53038",
   "metadata": {},
   "outputs": [],
   "source": [
    "#rating_reasons.to_pickle('../data/rating_reasons.pkl')"
   ]
  },
  {
   "cell_type": "code",
   "execution_count": null,
   "id": "150aaf6c",
   "metadata": {},
   "outputs": [],
   "source": []
  }
 ],
 "metadata": {
  "kernelspec": {
   "display_name": "Python 3 (ipykernel)",
   "language": "python",
   "name": "python3"
  },
  "language_info": {
   "codemirror_mode": {
    "name": "ipython",
    "version": 3
   },
   "file_extension": ".py",
   "mimetype": "text/x-python",
   "name": "python",
   "nbconvert_exporter": "python",
   "pygments_lexer": "ipython3",
   "version": "3.9.16"
  }
 },
 "nbformat": 4,
 "nbformat_minor": 5
}
