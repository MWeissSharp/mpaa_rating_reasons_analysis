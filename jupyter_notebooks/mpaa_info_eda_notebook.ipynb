{
 "cells": [
  {
   "cell_type": "code",
   "execution_count": null,
   "id": "162d0ade",
   "metadata": {},
   "outputs": [],
   "source": [
    "import numpy as np\n",
    "import pandas as pd\n",
    "from pandas_profiling import ProfileReport"
   ]
  },
  {
   "cell_type": "code",
   "execution_count": null,
   "id": "c424dc1a",
   "metadata": {},
   "outputs": [],
   "source": [
    "all_mpaa_info = pd.read_csv('../data/mpaa_data.csv')\n",
    "all_mpaa_info = all_mpaa_info.drop(columns = 'Unnamed: 0')\n",
    "mpaa_info = all_mpaa_info.drop_duplicates()\n",
    "mpaa_info.info()"
   ]
  },
  {
   "cell_type": "code",
   "execution_count": null,
   "id": "52c79c88",
   "metadata": {},
   "outputs": [],
   "source": [
    "#dropping reissued movies\n",
    "mpaa_info = mpaa_info.loc[~mpaa_info['other'].fillna('').str.contains('Re-Issue')]\n",
    "mpaa_info.info()"
   ]
  },
  {
   "cell_type": "code",
   "execution_count": null,
   "id": "eaffc644",
   "metadata": {},
   "outputs": [],
   "source": [
    "#dropping movies that only appear in this time frame because their rating symbol was updated\n",
    "mpaa_info = mpaa_info.loc[~mpaa_info['other'].fillna('').str.contains('Rating Symbol Changed')]\n",
    "mpaa_info.info()"
   ]
  },
  {
   "cell_type": "code",
   "execution_count": null,
   "id": "fd940bee",
   "metadata": {
    "scrolled": true
   },
   "outputs": [],
   "source": [
    "#dropping movies that only appear in this time frame because they were re-rated for release on home video\n",
    "mpaa_info = (\n",
    "    mpaa_info\n",
    "    .loc[~((mpaa_info['other'].fillna('').str.contains('Re-Rating'))\n",
    "           &\n",
    "           (mpaa_info['distributor'].fillna('').str.contains('Home ')))]\n",
    ")\n",
    "mpaa_info.info()"
   ]
  },
  {
   "cell_type": "code",
   "execution_count": null,
   "id": "95e29afc",
   "metadata": {
    "scrolled": true
   },
   "outputs": [],
   "source": [
    "#dropping rows that are only different in alt_titles or other columns (4 rows)\n",
    "mpaa_info = mpaa_info.drop_duplicates(subset = ['title', 'reason', 'year'])\n",
    "mpaa_info.info()"
   ]
  },
  {
   "cell_type": "code",
   "execution_count": null,
   "id": "fdee9c65",
   "metadata": {},
   "outputs": [],
   "source": [
    "#clean up the distributor column a bit\n",
    "mpaa_info['distributor'] = (\n",
    "    mpaa_info['distributor']\n",
    "    .str.replace(' Inc.', '')\n",
    "    .str.replace(' LLC', '')\n",
    "    .str.replace(' L.P.', '')\n",
    "    .str.replace('Co\\.', 'Company')\n",
    "    .str.replace('Corp\\.', 'Corporation')\n",
    "    .str.replace('Lions Gate', 'Lionsgate')\n",
    "    .str.replace('Lionsgate Entertainment', 'Lionsgate')\n",
    "    .str.replace('Paramount Classics, A Division Of Paramount Pictures Corporation', 'Paramount Classics')\n",
    "    .str.replace('Paramount Classics', 'Paramount Classics, A Division Of Paramount Pictures Corporation')\n",
    "    .str.replace('Paramount Pictures Corporation', 'Paramount Pictures')\n",
    "    .str.replace('Paramount Pictures', 'Paramount Pictures Corporation')\n",
    "    .str.replace('Universal Home Entertainment Productions', 'Universal Home Entertainment')\n",
    "    .str.replace('Universal Home Entertainment', 'Universal Pictures Home Entertainment')\n",
    "    .str.replace('Universal Studios Home Entertainment Productions', 'Universal Studios Home Entertainment')\n",
    "    .str.replace('Universal 1440 Entertainment', 'Universal 1440')\n",
    "    .str.replace('Universal 1440', 'Universal 1440 Entertainment')\n",
    "    .str.replace('Ltd.', 'Limited')\n",
    "    .str.replace('Distribution', 'Distribut')\n",
    "    .str.replace('Distribut', 'Distribution')\n",
    "    .str.replace('Walt Disney Studios Motion Pictures', 'Walt Disney Studios Motion Picture')\n",
    "    .str.replace('Walt Disney Studios Motion Picture', 'Walt Disney Studios Motion Pictures')\n",
    "    .str.replace('Trimark Pictures A Division Of Vidmark', 'Trimark Pictures, A Division Of Vidmark')\n",
    "    .str.replace('Screen Media Ventures', 'Screen Media')\n",
    "    .str.replace('Screen Media Films', 'Screen Media')\n",
    "    .str.replace('Screen Media', 'Screen Media Ventures')\n",
    "    .str.replace('Int\\'l', 'International')\n",
    "    .str.replace('Weinstein Company,, The', 'The Weinstein Company')\n",
    "    .str.replace('Weinstein Company, The', 'The Weinstein Company')\n",
    "    .str.replace('Weinstein Company, LCC, The', 'The Weinstein Company')\n",
    "    .str.replace('Concorde-New Horizons Pictures Corporation', 'Concorde - New Horizons Corporation')\n",
    "    .str.replace('  ', ' ')\n",
    "    .str.strip(',')\n",
    "    .str.strip()\n",
    ")"
   ]
  },
  {
   "cell_type": "code",
   "execution_count": null,
   "id": "e8c7b7c9",
   "metadata": {
    "scrolled": true
   },
   "outputs": [],
   "source": [
    "mpaa_info['distributor'].value_counts()"
   ]
  },
  {
   "cell_type": "code",
   "execution_count": null,
   "id": "d1bf7c12",
   "metadata": {},
   "outputs": [],
   "source": [
    "profile = ProfileReport(mpaa_info, title=\"Pandas Profiling Report\")"
   ]
  },
  {
   "cell_type": "code",
   "execution_count": null,
   "id": "4819fe7d",
   "metadata": {},
   "outputs": [],
   "source": [
    "profile.to_notebook_iframe()"
   ]
  },
  {
   "cell_type": "code",
   "execution_count": null,
   "id": "0352d709",
   "metadata": {},
   "outputs": [],
   "source": [
    "#pulling instances where \"Rerate After Appeal\" is noted in the \"other\" column\n",
    "rerate_titles = mpaa_info.loc[mpaa_info['other'].fillna('').str.contains(\"Rerate After Appeal\")]['title']"
   ]
  },
  {
   "cell_type": "code",
   "execution_count": null,
   "id": "15399229",
   "metadata": {},
   "outputs": [],
   "source": [
    "#looking specifically at instances when the rerating may have resulted in a second entry for the same film\n",
    "mpaa_info.loc[mpaa_info['title'].isin(rerate_titles)].loc[mpaa_info[['title', 'year']].duplicated(keep=False)].sort_values('title')"
   ]
  },
  {
   "cell_type": "code",
   "execution_count": null,
   "id": "a6320e7b",
   "metadata": {
    "scrolled": true
   },
   "outputs": [],
   "source": [
    "#looking for instances when the rerate may have occurred in a different, but adjacent, year\n",
    "mpaa_info.loc[mpaa_info['title'].isin(rerate_titles)].loc[mpaa_info[['title']].duplicated(keep=False)].sort_values('title')"
   ]
  },
  {
   "cell_type": "code",
   "execution_count": null,
   "id": "8a1ceebb",
   "metadata": {},
   "outputs": [],
   "source": [
    "#pulling instances of any type of appeal that was noted in the \"other\" column\n",
    "appeal_titles = mpaa_info.loc[mpaa_info['other'].fillna('').str.contains(\"Appeal\")].sort_values('title')['title']\n",
    "\n",
    "appeal_titles"
   ]
  },
  {
   "cell_type": "code",
   "execution_count": null,
   "id": "9e925914",
   "metadata": {},
   "outputs": [],
   "source": [
    "#looking for instances when the appeal appears to have created a second entry for the same film\n",
    "mpaa_info.loc[mpaa_info['title'].isin(appeal_titles)].loc[mpaa_info[['title', 'year']].duplicated(keep=False)].sort_values('title')"
   ]
  },
  {
   "cell_type": "code",
   "execution_count": null,
   "id": "fb2e01d4",
   "metadata": {
    "scrolled": false
   },
   "outputs": [],
   "source": [
    "mpaa_info.loc[mpaa_info['title'].isin(appeal_titles)].loc[mpaa_info[['title']].duplicated(keep=False)].sort_values('title')"
   ]
  },
  {
   "cell_type": "code",
   "execution_count": null,
   "id": "1f7e8df8",
   "metadata": {},
   "outputs": [],
   "source": [
    "#Edited versions can be truly alternate versions that were released, trying to not count those as duplicates\n",
    "#but this method didn't quite work\n",
    "(\n",
    "    mpaa_info\n",
    "    .loc[~mpaa_info['other'].fillna('').str.contains(\"Edited Version\")]\n",
    "    .loc[mpaa_info[['title', 'year']].duplicated(keep=False)]\n",
    "    .sort_values('title')\n",
    "    .tail(40)\n",
    ")"
   ]
  },
  {
   "cell_type": "code",
   "execution_count": null,
   "id": "d2a91234",
   "metadata": {},
   "outputs": [],
   "source": [
    "#here looking at Re-Rating NOT associated with appeals, necessarily\n",
    "mpaa_info.loc[mpaa_info['other'].fillna('').str.contains(\"Re-Rating\")].sort_values('title')"
   ]
  },
  {
   "cell_type": "code",
   "execution_count": null,
   "id": "fc442028",
   "metadata": {},
   "outputs": [],
   "source": [
    "#mpaa_info.to_csv('../data/clean_mpaa_data.csv')"
   ]
  }
 ],
 "metadata": {
  "kernelspec": {
   "display_name": "Python 3 (ipykernel)",
   "language": "python",
   "name": "python3"
  },
  "language_info": {
   "codemirror_mode": {
    "name": "ipython",
    "version": 3
   },
   "file_extension": ".py",
   "mimetype": "text/x-python",
   "name": "python",
   "nbconvert_exporter": "python",
   "pygments_lexer": "ipython3",
   "version": "3.9.12"
  }
 },
 "nbformat": 4,
 "nbformat_minor": 5
}
