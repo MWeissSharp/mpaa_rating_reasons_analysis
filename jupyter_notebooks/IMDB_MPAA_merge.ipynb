{
 "cells": [
  {
   "cell_type": "code",
   "execution_count": null,
   "id": "0775aadb",
   "metadata": {},
   "outputs": [],
   "source": [
    "import pandas as pd\n",
    "import numpy as np\n",
    "import pickle"
   ]
  },
  {
   "cell_type": "code",
   "execution_count": null,
   "id": "b37c5eee",
   "metadata": {},
   "outputs": [],
   "source": [
    "imdb_reasons = pd.read_pickle('../data/imdb_reasons.pkl')\n",
    "imdb_reasons.info()"
   ]
  },
  {
   "cell_type": "code",
   "execution_count": null,
   "id": "edaa3dd6",
   "metadata": {},
   "outputs": [],
   "source": [
    "imdb_reasons['mpaa_cert_#'] = imdb_reasons['mpaa_cert_#'].str.strip()"
   ]
  },
  {
   "cell_type": "code",
   "execution_count": null,
   "id": "3705b2df",
   "metadata": {},
   "outputs": [],
   "source": [
    "# Going to have to deal with these separately\n",
    "imdb_dup_certs = imdb_reasons.loc[(imdb_reasons.duplicated(subset = ['mpaa_cert_#'], keep = False))\n",
    "                                  &\n",
    "                                  (imdb_reasons['mpaa_cert_#'] != 'None')].sort_values('mpaa_cert_#').reset_index(drop=True)\n",
    "len(imdb_dup_certs)"
   ]
  },
  {
   "cell_type": "code",
   "execution_count": null,
   "id": "4c3a9f7c",
   "metadata": {},
   "outputs": [],
   "source": [
    "imdb_reasons = imdb_reasons.loc[~(imdb_reasons['mpaa_cert_#'].isin(imdb_dup_certs['mpaa_cert_#']))].reset_index(drop=True)"
   ]
  },
  {
   "cell_type": "code",
   "execution_count": null,
   "id": "76373978",
   "metadata": {
    "scrolled": true
   },
   "outputs": [],
   "source": [
    "mpaa_details = pd.read_pickle('../data/mpaa_details.pkl')\n",
    "mpaa_details.info()"
   ]
  },
  {
   "cell_type": "code",
   "execution_count": null,
   "id": "f069fb50",
   "metadata": {},
   "outputs": [],
   "source": [
    "mpaa_details['mpaa_cert_#'] = mpaa_details['mpaa_cert_#'].str.strip()"
   ]
  },
  {
   "cell_type": "code",
   "execution_count": null,
   "id": "95848de2",
   "metadata": {},
   "outputs": [],
   "source": [
    "# Going to have to deal with these separately\n",
    "mpaa_dup_certs = mpaa_details.loc[mpaa_details.duplicated(subset = ['mpaa_cert_#'], keep = False)].sort_values('mpaa_cert_#').reset_index(drop=True)\n",
    "len(mpaa_dup_certs)"
   ]
  },
  {
   "cell_type": "code",
   "execution_count": null,
   "id": "6526830c",
   "metadata": {},
   "outputs": [],
   "source": [
    "mpaa_details = mpaa_details.loc[~(mpaa_details['mpaa_cert_#'].isin(mpaa_dup_certs['mpaa_cert_#']))].reset_index(drop=True)"
   ]
  },
  {
   "cell_type": "markdown",
   "id": "9a8420cf",
   "metadata": {},
   "source": [
    "#### Merge the two main datasets"
   ]
  },
  {
   "cell_type": "code",
   "execution_count": null,
   "id": "db0203bd",
   "metadata": {},
   "outputs": [],
   "source": [
    "outer_merge = pd.merge(imdb_reasons, mpaa_details, on = 'mpaa_cert_#', how = 'outer')"
   ]
  },
  {
   "cell_type": "code",
   "execution_count": null,
   "id": "718eef7c",
   "metadata": {},
   "outputs": [],
   "source": [
    "# Amazing Stories was a TV show, not sure why it got rated by MPAA, dropping those rows\n",
    "outer_merge = outer_merge.loc[~(outer_merge['mpaa_title'].fillna('').str.contains('Amazing Stories'))]"
   ]
  },
  {
   "cell_type": "code",
   "execution_count": null,
   "id": "8dd73dd8",
   "metadata": {
    "scrolled": true
   },
   "outputs": [],
   "source": [
    "imdb_no_match = outer_merge.loc[outer_merge['mpaa_title'].isna()]\n",
    "mpaa_no_match = outer_merge.loc[outer_merge['imdb_ids'].isna()]"
   ]
  },
  {
   "cell_type": "code",
   "execution_count": null,
   "id": "ef33fe97",
   "metadata": {},
   "outputs": [],
   "source": [
    "imdb_info = imdb_reasons.loc[imdb_reasons['imdb_ids'].isin(imdb_no_match['imdb_ids'])]\n",
    "mpaa_info = mpaa_details.loc[mpaa_details['mpaa_cert_#'].isin(mpaa_no_match['mpaa_cert_#'])]"
   ]
  },
  {
   "cell_type": "code",
   "execution_count": null,
   "id": "135bdea3",
   "metadata": {
    "scrolled": true
   },
   "outputs": [],
   "source": [
    "print(len(imdb_info))\n",
    "print(len(mpaa_info))"
   ]
  },
  {
   "cell_type": "code",
   "execution_count": null,
   "id": "28847f54",
   "metadata": {
    "scrolled": true
   },
   "outputs": [],
   "source": [
    "# These movies originally released prior to the 1992-2022 timeframe except for one that was released in 2023\n",
    "mpaa_info.loc[mpaa_info['other_info'].str.contains('Re-Rating')].sort_values('rating_year')"
   ]
  },
  {
   "cell_type": "code",
   "execution_count": null,
   "id": "57404916",
   "metadata": {},
   "outputs": [],
   "source": [
    "# These are all older movies that were originally released prior to rating reasons being required, will drop them\n",
    "mpaa_info.loc[mpaa_info['other_info'].str.contains('Re-Issue')]"
   ]
  },
  {
   "cell_type": "code",
   "execution_count": null,
   "id": "02cd41b5",
   "metadata": {
    "scrolled": true
   },
   "outputs": [],
   "source": [
    "# These are also all older movies that were re-rated to use the current rating system\n",
    "mpaa_info.loc[mpaa_info['other_info'].str.contains('Rating Symbol')]"
   ]
  },
  {
   "cell_type": "code",
   "execution_count": null,
   "id": "8cdb0397",
   "metadata": {},
   "outputs": [],
   "source": [
    "outer_merge = outer_merge.loc[~(((outer_merge['other_info'].str.contains('Re-Rating'))\n",
    "                            |\n",
    "                             (outer_merge['other_info'].str.contains('Re-Issue'))\n",
    "                             |\n",
    "                             (outer_merge['other_info'].str.contains('Rating Symbol')))\n",
    "                            &\n",
    "                            (outer_merge['imdb_ids'].isna()))].reset_index(drop=True)"
   ]
  },
  {
   "cell_type": "code",
   "execution_count": null,
   "id": "b70a69e7",
   "metadata": {},
   "outputs": [],
   "source": [
    "imdb_info.loc[(imdb_info['rating_reasons'] == 'None')\n",
    "              & \n",
    "              (imdb_info['mpaa_cert_#'] == 'None')\n",
    "              &\n",
    "              (~imdb_info['release_note'].isna())]\n",
    "\n",
    "#After a looking at a selection of the movies, they do not appear to have been rated by the MPAA, so removing them\n",
    "imdbids_to_remove_a = imdb_info.loc[(imdb_info['rating_reasons'] == 'None')\n",
    "              & \n",
    "              (imdb_info['mpaa_cert_#'] == 'None')\n",
    "              &\n",
    "              (~imdb_info['release_note'].isna())]['imdb_ids']"
   ]
  },
  {
   "cell_type": "code",
   "execution_count": null,
   "id": "6c4180af",
   "metadata": {},
   "outputs": [],
   "source": [
    "outer_merge = outer_merge.loc[~(outer_merge['imdb_ids'].isin(imdbids_to_remove_a))]"
   ]
  },
  {
   "cell_type": "code",
   "execution_count": null,
   "id": "15ab6e29",
   "metadata": {},
   "outputs": [],
   "source": [
    "imdb_info.loc[imdb_info['rating_reasons'] == '']\n",
    "\n",
    "# none of these 3 were rated by the MPAA despite IMDB having a certificate # for them\n",
    "imdbids_to_remove_b = imdb_info.loc[imdb_info['rating_reasons'] == '']['imdb_ids']"
   ]
  },
  {
   "cell_type": "code",
   "execution_count": null,
   "id": "d76a9edb",
   "metadata": {},
   "outputs": [],
   "source": [
    "outer_merge = outer_merge.loc[~(outer_merge['imdb_ids'].isin(imdbids_to_remove_b))]"
   ]
  },
  {
   "cell_type": "code",
   "execution_count": null,
   "id": "1473d96f",
   "metadata": {
    "scrolled": false
   },
   "outputs": [],
   "source": [
    "imdb_info.loc[(imdb_info['imdb_genres'].str.contains('Short'))\n",
    "                & \n",
    "                (imdb_info['rating_reasons'] == 'None')]\n",
    "\n",
    "# After a looking at a selection of the movies, they do not appear to have been rated by the MPAA, so removing them\n",
    "imdbids_to_remove_c = imdb_info.loc[(imdb_info['imdb_genres'].str.contains('Short'))\n",
    "                                    & \n",
    "                                    (imdb_info['rating_reasons'] == 'None')]['imdb_ids']"
   ]
  },
  {
   "cell_type": "code",
   "execution_count": null,
   "id": "16719a2e",
   "metadata": {},
   "outputs": [],
   "source": [
    "outer_merge = outer_merge.loc[~(outer_merge['imdb_ids'].isin(imdbids_to_remove_c))]"
   ]
  },
  {
   "cell_type": "code",
   "execution_count": null,
   "id": "7a09f227",
   "metadata": {},
   "outputs": [],
   "source": [
    "imdb_no_match_b = outer_merge.loc[outer_merge['mpaa_title'].isna()]\n",
    "mpaa_no_match_b = outer_merge.loc[outer_merge['imdb_ids'].isna()]"
   ]
  },
  {
   "cell_type": "code",
   "execution_count": null,
   "id": "5f8c5380",
   "metadata": {},
   "outputs": [],
   "source": [
    "imdb_info_b = imdb_reasons.loc[(imdb_reasons['imdb_ids'].isin(imdb_no_match_b['imdb_ids']))]\n",
    "mpaa_info_b = mpaa_details.loc[mpaa_details['mpaa_cert_#'].isin(mpaa_no_match_b['mpaa_cert_#'])]"
   ]
  },
  {
   "cell_type": "code",
   "execution_count": null,
   "id": "c8c080b6",
   "metadata": {},
   "outputs": [],
   "source": [
    "print(len(imdb_info_b))\n",
    "print(len(mpaa_info_b))"
   ]
  },
  {
   "cell_type": "code",
   "execution_count": null,
   "id": "a25427bb",
   "metadata": {},
   "outputs": [],
   "source": [
    "imdb_info_b.loc[(imdb_info_b['imdb_ratings'].isna())\n",
    "               & \n",
    "              (imdb_info_b['rating_reasons'] == 'None')]\n",
    "\n",
    "# After a looking at a selection of the movies, they do not appear to have been rated by the MPAA, so removing them\n",
    "imdbids_to_remove_d = imdb_info_b.loc[(imdb_info_b['imdb_ratings'].isna())\n",
    "                                      & \n",
    "                                      (imdb_info_b['rating_reasons'] == 'None')]['imdb_ids']"
   ]
  },
  {
   "cell_type": "code",
   "execution_count": null,
   "id": "f5a95a85",
   "metadata": {},
   "outputs": [],
   "source": [
    "outer_merge = outer_merge.loc[~(outer_merge['imdb_ids'].isin(imdbids_to_remove_d))]"
   ]
  },
  {
   "cell_type": "code",
   "execution_count": null,
   "id": "b6c06ca6",
   "metadata": {},
   "outputs": [],
   "source": [
    "imdb_info_b.loc[(imdb_info_b['release_year'] == '1991')\n",
    "                &\n",
    "                (imdb_info_b['rating_reasons'] == 'None')]\n",
    "\n",
    "\n",
    "# These movies were rated prior to reasons being required\n",
    "imdbids_to_remove_e = imdb_info_b.loc[(imdb_info_b['release_year'] == '1991')\n",
    "                                      &\n",
    "                                      (imdb_info_b['rating_reasons'] == 'None')]['imdb_ids']"
   ]
  },
  {
   "cell_type": "code",
   "execution_count": null,
   "id": "548a8b68",
   "metadata": {},
   "outputs": [],
   "source": [
    "outer_merge = outer_merge.loc[~(outer_merge['imdb_ids'].isin(imdbids_to_remove_e))]"
   ]
  },
  {
   "cell_type": "code",
   "execution_count": null,
   "id": "5f1412ad",
   "metadata": {},
   "outputs": [],
   "source": [
    "imdb_info_b.loc[(imdb_info_b['mpaa_cert_#'] != 'None')\n",
    "                &\n",
    "                (imdb_info_b['rating_reasons'] == 'None')]\n",
    "\n",
    "# These movies do not align with any MPAA rated movies OR they were rated prior to rating reasons\n",
    "imdbids_to_remove_f = imdb_info_b.loc[(imdb_info_b['mpaa_cert_#'] != 'None')\n",
    "                                      &\n",
    "                                      (imdb_info_b['rating_reasons'] == 'None')]['imdb_ids']"
   ]
  },
  {
   "cell_type": "code",
   "execution_count": null,
   "id": "f4ad9d6f",
   "metadata": {},
   "outputs": [],
   "source": [
    "imdb_no_match_c = outer_merge.loc[outer_merge['mpaa_title'].isna()]\n",
    "mpaa_no_match_c = outer_merge.loc[outer_merge['imdb_ids'].isna()]"
   ]
  },
  {
   "cell_type": "code",
   "execution_count": null,
   "id": "60050c4a",
   "metadata": {},
   "outputs": [],
   "source": [
    "imdb_info_c = imdb_reasons.loc[(imdb_reasons['imdb_ids'].isin(imdb_no_match_c['imdb_ids']))]\n",
    "mpaa_info_c = mpaa_details.loc[mpaa_details['mpaa_cert_#'].isin(mpaa_no_match_c['mpaa_cert_#'])]"
   ]
  },
  {
   "cell_type": "code",
   "execution_count": null,
   "id": "89cf1b56",
   "metadata": {},
   "outputs": [],
   "source": [
    "print(len(imdb_info_c))\n",
    "print(len(mpaa_info_c))"
   ]
  },
  {
   "cell_type": "code",
   "execution_count": null,
   "id": "fc4a93f7",
   "metadata": {},
   "outputs": [],
   "source": [
    "outer_merge = outer_merge.loc[~(outer_merge['imdb_ids'].isin(imdbids_to_remove_f))]"
   ]
  },
  {
   "cell_type": "code",
   "execution_count": null,
   "id": "ecf2997e",
   "metadata": {},
   "outputs": [],
   "source": [
    "outer_merge.info()"
   ]
  },
  {
   "cell_type": "markdown",
   "id": "68567d47",
   "metadata": {},
   "source": [
    "Now need to deal with the movies that appear multiple times, sometimes with all info, sometimes not"
   ]
  },
  {
   "cell_type": "code",
   "execution_count": null,
   "id": "f9a2269a",
   "metadata": {},
   "outputs": [],
   "source": [
    "dup_ids = (\n",
    "    outer_merge.loc[(outer_merge['imdb_ids'].isin(imdb_info_c['imdb_ids']))\n",
    "                    &\n",
    "                    (~outer_merge['mpaa_title'].isna())\n",
    "                    ]['imdb_ids']\n",
    ")"
   ]
  },
  {
   "cell_type": "code",
   "execution_count": null,
   "id": "6be57ffd",
   "metadata": {},
   "outputs": [],
   "source": [
    "dup_imbdid_indices = (\n",
    "    outer_merge.loc[(outer_merge['imdb_ids'].isin(dup_ids))\n",
    "                    &\n",
    "                    (outer_merge['mpaa_title'].isna())\n",
    "                    ].index\n",
    ")"
   ]
  },
  {
   "cell_type": "code",
   "execution_count": null,
   "id": "aa6e27e9",
   "metadata": {},
   "outputs": [],
   "source": [
    "outer_merge = (\n",
    "    outer_merge.drop(index=dup_imbdid_indices)\n",
    "    .reset_index(drop=True)\n",
    ")"
   ]
  },
  {
   "cell_type": "code",
   "execution_count": null,
   "id": "d9901b80",
   "metadata": {},
   "outputs": [],
   "source": [
    "imdb_no_match_d = outer_merge.loc[outer_merge['mpaa_title'].isna()]\n",
    "mpaa_no_match_d = outer_merge.loc[outer_merge['imdb_ids'].isna()]"
   ]
  },
  {
   "cell_type": "code",
   "execution_count": null,
   "id": "f1d5d7fd",
   "metadata": {},
   "outputs": [],
   "source": [
    "imdb_info_d = imdb_reasons.loc[(imdb_reasons['imdb_ids'].isin(imdb_no_match_d['imdb_ids']))]\n",
    "mpaa_info_d = mpaa_details.loc[mpaa_details['mpaa_cert_#'].isin(mpaa_no_match_d['mpaa_cert_#'])]"
   ]
  },
  {
   "cell_type": "code",
   "execution_count": null,
   "id": "142c44b0",
   "metadata": {
    "scrolled": true
   },
   "outputs": [],
   "source": [
    "print(len(imdb_info_d))\n",
    "print(len(mpaa_info_d))"
   ]
  },
  {
   "cell_type": "markdown",
   "id": "a02cc7da",
   "metadata": {},
   "source": [
    "Now comes the more complicated efforts to merge the datasets\n",
    "\n",
    "First, I will save the component of the merged data that worked just using the MPAA certiicate number, removing the remaining portions that didn't merge.\n",
    "\n",
    "I will then attempt to merge the remaining data (incluiding those elements of each data set that had duplicate MPAA certificate numbers) based on movie title (after removing \"The\", making lower case, and substituting all & symbols for \"and\") along with other data (rating, maybe years)."
   ]
  },
  {
   "cell_type": "code",
   "execution_count": null,
   "id": "be204275",
   "metadata": {},
   "outputs": [],
   "source": [
    "main_merge = (\n",
    "    outer_merge.loc[~((outer_merge['imdb_ids'].isin(imdb_info_d['imdb_ids']))\n",
    "                    |\n",
    "                    (outer_merge['mpaa_cert_#'].isin(mpaa_info_d['mpaa_cert_#'])))].reset_index(drop = True)\n",
    "\n",
    ")"
   ]
  },
  {
   "cell_type": "code",
   "execution_count": null,
   "id": "d9556b4e",
   "metadata": {},
   "outputs": [],
   "source": [
    "main_merge.info()"
   ]
  },
  {
   "cell_type": "code",
   "execution_count": null,
   "id": "bc250730",
   "metadata": {},
   "outputs": [],
   "source": [
    "imdb_dup_certs"
   ]
  },
  {
   "cell_type": "code",
   "execution_count": null,
   "id": "dcf05a87",
   "metadata": {},
   "outputs": [],
   "source": [
    "imdbs = pd.concat([imdb_info_d, imdb_dup_certs]).reset_index(drop=True)\n",
    "mpaas = pd.concat([mpaa_info_d, mpaa_dup_certs]).reset_index(drop=True)\n",
    "\n",
    "print(len(imdbs))\n",
    "print(len(mpaas))"
   ]
  },
  {
   "cell_type": "code",
   "execution_count": null,
   "id": "544361d0",
   "metadata": {
    "scrolled": true
   },
   "outputs": [],
   "source": [
    "imdbs['match_titles'] = (\n",
    "    imdbs['imdb_titles']\n",
    "    .str.lower()\n",
    "    .str.replace('&', 'and')\n",
    "    .str.strip('.:!?,')\n",
    "    .str.strip()\n",
    ")\n",
    "imdbs"
   ]
  },
  {
   "cell_type": "code",
   "execution_count": null,
   "id": "4dc3c37e",
   "metadata": {
    "scrolled": true
   },
   "outputs": [],
   "source": [
    "imdbs.loc[(imdbs.duplicated(subset=['match_titles', 'release_year'], keep = False))\n",
    "          &\n",
    "          (imdbs['rating_reasons'] == 'None')].sort_values('match_titles')#.index\n",
    "\n",
    "# These appear to either be duplicates or not rated by MPAA\n",
    "imdbs = imdbs.drop(index = (imdbs.loc[(imdbs.duplicated(subset=['match_titles', 'release_year'], keep = False))\n",
    "          &\n",
    "          (imdbs['rating_reasons'] == 'None')].sort_values('match_titles').index)).reset_index(drop=True)"
   ]
  },
  {
   "cell_type": "code",
   "execution_count": null,
   "id": "a334623b",
   "metadata": {
    "scrolled": false
   },
   "outputs": [],
   "source": [
    "imdbs.loc[(imdbs.duplicated(subset=['match_titles', 'rating_reasons'], keep = False))\n",
    "          & \n",
    "          (imdbs['rating_reasons'] == 'None')].sort_values('match_titles')\n",
    "\n",
    "# None of these were rated by the MPAA\n",
    "imdbs = imdbs.loc[~((imdbs.duplicated(subset=['match_titles', 'rating_reasons'], keep = False))\n",
    "          & \n",
    "          (imdbs['rating_reasons'] == 'None'))].reset_index(drop=True)"
   ]
  },
  {
   "cell_type": "code",
   "execution_count": null,
   "id": "e3c07423",
   "metadata": {},
   "outputs": [],
   "source": [
    "imdbs.loc[(imdbs.duplicated(subset=['match_titles', 'rating_reasons'], keep = False))\n",
    "         &\n",
    "          (imdbs['votes'] < 310)]\n",
    "\n",
    "# These are movies with the same title as movies that were rated, but these were not\n",
    "imdbs = imdbs.loc[~((imdbs.duplicated(subset=['match_titles', 'rating_reasons'], keep = False))\n",
    "         &\n",
    "          (imdbs['votes'] < 310))].reset_index(drop=True)"
   ]
  },
  {
   "cell_type": "code",
   "execution_count": null,
   "id": "f060b818",
   "metadata": {
    "scrolled": true
   },
   "outputs": [],
   "source": [
    "mpaas['the_fix'] = mpaas['mpaa_title'].str.endswith(', The')\n",
    "mpaas['a_fix'] = mpaas['mpaa_title'].str.endswith(', A')\n",
    "#mpaas['match_titles'] = mpaas['mpaa_title']\n",
    "mpaas['temp_titles'] = mpaas['mpaa_title'].str.replace(', The', '').str.replace(', A', '')\n",
    "mpaas.loc[mpaas['the_fix'] == True, 'match_titles'] = 'The ' + mpaas['temp_titles']\n",
    "mpaas.loc[mpaas['a_fix'] == True, 'match_titles'] = 'A ' + mpaas['temp_titles']\n",
    "mpaas['match_titles'] = mpaas['match_titles'].fillna(mpaas['mpaa_title'])\n",
    "mpaas = mpaas.drop(columns = ['the_fix', 'a_fix', 'temp_titles'])\n",
    "mpaas"
   ]
  },
  {
   "cell_type": "code",
   "execution_count": null,
   "id": "99c79113",
   "metadata": {
    "scrolled": true
   },
   "outputs": [],
   "source": [
    "mpaas['match_titles'] = (\n",
    "    mpaas['match_titles']\n",
    "    .str.lower()\n",
    "    .str.replace('&', 'and')\n",
    "    .str.strip('.:!?,')\n",
    "    .str.strip()\n",
    ")\n",
    "mpaas"
   ]
  },
  {
   "cell_type": "code",
   "execution_count": null,
   "id": "4c69955f",
   "metadata": {
    "scrolled": false
   },
   "outputs": [],
   "source": [
    "mpaas.loc[(mpaas.duplicated(subset=['match_titles', 'rating_year'], keep = False))\n",
    "         &\n",
    "          (mpaas['rating_year'] == '1991')].sort_values('match_titles')\n",
    "\n",
    "# These movies were all released prior to 1991\n",
    "mpaas = mpaas.loc[~((mpaas.duplicated(subset=['match_titles', 'rating_year'], keep = False))\n",
    "         &\n",
    "          (mpaas['rating_year'] == '1991'))].reset_index(drop=True)"
   ]
  },
  {
   "cell_type": "code",
   "execution_count": null,
   "id": "a86c61b1",
   "metadata": {},
   "outputs": [],
   "source": [
    "mpaas.loc[mpaas.duplicated(subset=['match_titles', 'rating_year'], keep = False)].sort_values('match_titles')"
   ]
  },
  {
   "cell_type": "code",
   "execution_count": null,
   "id": "1d0b898f",
   "metadata": {},
   "outputs": [],
   "source": [
    "imdbs.loc[imdbs['imdb_titles'] == 'Pirates']"
   ]
  },
  {
   "cell_type": "code",
   "execution_count": null,
   "id": "978c7cad",
   "metadata": {
    "scrolled": true
   },
   "outputs": [],
   "source": [
    "title_year_rating_reason_match = pd.merge(imdbs, mpaas, left_on = ['match_titles', 'release_year', 'imdb_mpaas', 'rating_reasons'], right_on = ['match_titles', 'rating_year', 'mpaa_rating', 'mpaa_reason'], how = 'inner')\n",
    "title_year_rating_reason_match['imdb_titles'].value_counts()"
   ]
  },
  {
   "cell_type": "code",
   "execution_count": null,
   "id": "982679e7",
   "metadata": {},
   "outputs": [],
   "source": [
    "main_merge = pd.concat([main_merge, \n",
    "                        title_year_rating_reason_match\n",
    "                        .drop(columns = ['mpaa_cert_#_y', 'match_titles'])\n",
    "                        .rename(columns= {'mpaa_cert_#_x':'mpaa_cert_#'})])"
   ]
  },
  {
   "cell_type": "code",
   "execution_count": null,
   "id": "d7e471aa",
   "metadata": {},
   "outputs": [],
   "source": [
    "main_merge.columns"
   ]
  },
  {
   "cell_type": "code",
   "execution_count": null,
   "id": "1a580bd0",
   "metadata": {},
   "outputs": [],
   "source": [
    "title_year_rating_reason_match.columns"
   ]
  },
  {
   "cell_type": "code",
   "execution_count": null,
   "id": "8d9a9bb3",
   "metadata": {
    "scrolled": true
   },
   "outputs": [],
   "source": [
    "imdbs.loc[imdbs['imdb_titles'] == 'Alone']"
   ]
  },
  {
   "cell_type": "code",
   "execution_count": null,
   "id": "e46057cb",
   "metadata": {},
   "outputs": [],
   "source": [
    "imdbs_a = imdbs.loc[~imdbs['imdb_ids'].isin(title_year_rating_reason_match['imdb_ids'])].reset_index(drop=True)\n",
    "len(imdbs_a)"
   ]
  },
  {
   "cell_type": "code",
   "execution_count": null,
   "id": "9c7989a5",
   "metadata": {},
   "outputs": [],
   "source": [
    " mpaas.loc[((mpaas['mpaa_title'].isin(title_year_rating_reason_match['mpaa_title']))\n",
    "         )]['mpaa_title'].value_counts()"
   ]
  },
  {
   "cell_type": "code",
   "execution_count": null,
   "id": "2055d57f",
   "metadata": {},
   "outputs": [],
   "source": [
    " mpaas.loc[((mpaas['mpaa_title'].isin(['Resurrection', 'Secret Sins']))\n",
    "         )]"
   ]
  },
  {
   "cell_type": "code",
   "execution_count": null,
   "id": "5241637e",
   "metadata": {
    "scrolled": true
   },
   "outputs": [],
   "source": [
    "title_year_rating_reason_match.loc[((title_year_rating_reason_match['mpaa_title'].isin(['Resurrection', 'Secret Sins']))\n",
    "         )]"
   ]
  },
  {
   "cell_type": "code",
   "execution_count": null,
   "id": "99e46766",
   "metadata": {},
   "outputs": [],
   "source": [
    "mpaas_a = mpaas.loc[~((mpaas['mpaa_title'].isin(title_year_rating_reason_match['mpaa_title']))\n",
    "            &\n",
    "            (~mpaas['mpaa_cert_#'].isin(['47255', '32891']))\n",
    "         )].reset_index(drop = True)"
   ]
  },
  {
   "cell_type": "code",
   "execution_count": null,
   "id": "2f6fde67",
   "metadata": {
    "scrolled": true
   },
   "outputs": [],
   "source": [
    "title_year_merge = pd.merge(imdbs_a, mpaas_a, left_on = ['match_titles', 'release_year'], right_on = ['match_titles', 'rating_year'], how = 'inner')\n",
    "title_year_merge"
   ]
  },
  {
   "cell_type": "code",
   "execution_count": null,
   "id": "e7016df4",
   "metadata": {},
   "outputs": [],
   "source": [
    "main_merge = pd.concat([main_merge, \n",
    "                        title_year_merge\n",
    "                        .drop(columns = ['mpaa_cert_#_y', 'match_titles'])\n",
    "                        .rename(columns= {'mpaa_cert_#_x':'mpaa_cert_#'})])"
   ]
  },
  {
   "cell_type": "code",
   "execution_count": null,
   "id": "6533ec85",
   "metadata": {
    "scrolled": false
   },
   "outputs": [],
   "source": [
    "title_year_merge['mpaa_title'].value_counts()"
   ]
  },
  {
   "cell_type": "code",
   "execution_count": null,
   "id": "fa8f08a0",
   "metadata": {},
   "outputs": [],
   "source": [
    "imdbs_b = imdbs_a.loc[~imdbs_a['imdb_ids'].isin(title_year_merge['imdb_ids'])].reset_index(drop=True)\n",
    "len(imdbs_b)"
   ]
  },
  {
   "cell_type": "code",
   "execution_count": null,
   "id": "94269d26",
   "metadata": {},
   "outputs": [],
   "source": [
    "len(mpaas_a.loc[mpaas_a['mpaa_title'].isin(title_year_merge['mpaa_title'])])"
   ]
  },
  {
   "cell_type": "code",
   "execution_count": null,
   "id": "e6fde8bb",
   "metadata": {
    "scrolled": true
   },
   "outputs": [],
   "source": [
    "mpaas_b = mpaas_a.loc[~(mpaas_a['mpaa_title'].isin(title_year_merge['mpaa_title']))] "
   ]
  },
  {
   "cell_type": "code",
   "execution_count": null,
   "id": "7fbb3004",
   "metadata": {
    "scrolled": true
   },
   "outputs": [],
   "source": [
    "pd.merge(imdbs_b, mpaas_b, left_on = ['match_titles', 'rating_reasons'], right_on = ['match_titles', 'mpaa_reason'])['imdb_titles'].value_counts()"
   ]
  },
  {
   "cell_type": "code",
   "execution_count": null,
   "id": "432815a0",
   "metadata": {},
   "outputs": [],
   "source": [
    "title_reason_merge = pd.merge(imdbs_b, mpaas_b, left_on = ['match_titles', 'rating_reasons'], right_on = ['match_titles', 'mpaa_reason'])"
   ]
  },
  {
   "cell_type": "code",
   "execution_count": null,
   "id": "c76795cf",
   "metadata": {},
   "outputs": [],
   "source": [
    "main_merge = pd.concat([main_merge, \n",
    "                        title_reason_merge\n",
    "                        .drop(columns = ['mpaa_cert_#_y', 'match_titles'])\n",
    "                        .rename(columns= {'mpaa_cert_#_x':'mpaa_cert_#'})])"
   ]
  },
  {
   "cell_type": "code",
   "execution_count": null,
   "id": "2d6fa41d",
   "metadata": {},
   "outputs": [],
   "source": [
    "imdbs_c = imdbs_b.loc[~(imdbs_b['imdb_ids'].isin(title_reason_merge['imdb_ids']))].reset_index(drop=True)"
   ]
  },
  {
   "cell_type": "code",
   "execution_count": null,
   "id": "4696276d",
   "metadata": {},
   "outputs": [],
   "source": [
    "mpaas_b.loc[mpaas_b['mpaa_title'].isin(title_reason_merge['mpaa_title'])]['mpaa_title'].value_counts()"
   ]
  },
  {
   "cell_type": "code",
   "execution_count": null,
   "id": "369bc1f3",
   "metadata": {},
   "outputs": [],
   "source": [
    "title_reason_merge.loc[title_reason_merge['mpaa_title'].isin(['Pirates', 'Love Song'])]"
   ]
  },
  {
   "cell_type": "code",
   "execution_count": null,
   "id": "262b99e7",
   "metadata": {
    "scrolled": true
   },
   "outputs": [],
   "source": [
    "mpaas_b.loc[mpaas_b['mpaa_title'].isin(['Pirates', 'Love Song'])]"
   ]
  },
  {
   "cell_type": "code",
   "execution_count": null,
   "id": "b45712f9",
   "metadata": {
    "scrolled": false
   },
   "outputs": [],
   "source": [
    "mpaas_c = mpaas_b.loc[~((mpaas_b['mpaa_title'].isin(title_reason_merge['mpaa_title']))\n",
    "         &\n",
    "          (~mpaas_b['mpaa_cert_#'].isin(['42996', '52710']))\n",
    "           )\n",
    "         ].reset_index(drop=True)"
   ]
  },
  {
   "cell_type": "code",
   "execution_count": null,
   "id": "fbd63347",
   "metadata": {},
   "outputs": [],
   "source": [
    "mpaas_c.loc[mpaas_c.duplicated(subset=['match_titles'], keep=False)]"
   ]
  },
  {
   "cell_type": "code",
   "execution_count": null,
   "id": "bd6fcdff",
   "metadata": {},
   "outputs": [],
   "source": [
    "# These are all duplicates or not actually rated by MPAA\n",
    "imdbs_c = imdbs_c.loc[~(imdbs_c.duplicated(subset=['match_titles'], keep=False))]"
   ]
  },
  {
   "cell_type": "code",
   "execution_count": null,
   "id": "7dbc6567",
   "metadata": {
    "scrolled": false
   },
   "outputs": [],
   "source": [
    "imdbs_c.loc[imdbs_c['match_titles'].isin(mpaas_c.loc[mpaas_c.duplicated(subset=['match_titles'], keep=False)]['match_titles'])]"
   ]
  },
  {
   "cell_type": "markdown",
   "id": "1176b8fd",
   "metadata": {},
   "source": [
    "None of the movies that have the same title from the MPAA dataset have matches in the IMDB dataset"
   ]
  },
  {
   "cell_type": "code",
   "execution_count": null,
   "id": "3a794c22",
   "metadata": {},
   "outputs": [],
   "source": [
    "title_rating_match = pd.merge(imdbs_c, mpaas_c, left_on = ['match_titles', 'imdb_mpaas'], right_on = ['match_titles', 'mpaa_rating'])"
   ]
  },
  {
   "cell_type": "code",
   "execution_count": null,
   "id": "fc62a4fc",
   "metadata": {},
   "outputs": [],
   "source": [
    "title_rating_match = title_rating_match.loc[abs(title_rating_match['release_year'].astype(int) - title_rating_match['rating_year'].astype(int)) < 5]"
   ]
  },
  {
   "cell_type": "code",
   "execution_count": null,
   "id": "b8d9a4bb",
   "metadata": {
    "scrolled": true
   },
   "outputs": [],
   "source": [
    "title_rating_match"
   ]
  },
  {
   "cell_type": "code",
   "execution_count": null,
   "id": "1a7496f7",
   "metadata": {},
   "outputs": [],
   "source": [
    "main_merge = pd.concat([main_merge, \n",
    "                        title_rating_match\n",
    "                        .drop(columns = ['mpaa_cert_#_y', 'match_titles'])\n",
    "                        .rename(columns= {'mpaa_cert_#_x':'mpaa_cert_#'})]).reset_index(drop=True)"
   ]
  },
  {
   "cell_type": "code",
   "execution_count": null,
   "id": "f22af982",
   "metadata": {},
   "outputs": [],
   "source": [
    "imdbs_d = imdbs_c.loc[~(imdbs_c['imdb_ids'].isin(title_rating_match['imdb_ids']))].reset_index(drop=True)\n",
    "len(imdbs_d)"
   ]
  },
  {
   "cell_type": "code",
   "execution_count": null,
   "id": "3fc8f3d4",
   "metadata": {
    "scrolled": false
   },
   "outputs": [],
   "source": [
    "mpaas_c.loc[mpaas_c['mpaa_title'].isin(title_rating_match['mpaa_title'])]['mpaa_title'].value_counts()"
   ]
  },
  {
   "cell_type": "code",
   "execution_count": null,
   "id": "2a1b55e6",
   "metadata": {},
   "outputs": [],
   "source": [
    "mpaas_d = mpaas_c.loc[~(mpaas_c['mpaa_title'].isin(title_rating_match['mpaa_title']))]\n",
    "len(mpaas_d)"
   ]
  },
  {
   "cell_type": "code",
   "execution_count": null,
   "id": "8b52c44a",
   "metadata": {
    "scrolled": true
   },
   "outputs": [],
   "source": [
    "pd.merge(imdbs_d, mpaas_d, left_on = ['match_titles'], right_on = ['match_titles'])"
   ]
  },
  {
   "cell_type": "markdown",
   "id": "8f74b195",
   "metadata": {},
   "source": [
    "None of the title only \"matches\" appear to be real matches, not adding them in"
   ]
  },
  {
   "cell_type": "code",
   "execution_count": null,
   "id": "41edd617",
   "metadata": {},
   "outputs": [],
   "source": [
    "mpaas_d.columns"
   ]
  },
  {
   "cell_type": "code",
   "execution_count": null,
   "id": "8b63d35a",
   "metadata": {
    "scrolled": true
   },
   "outputs": [],
   "source": [
    "final_data = pd.concat([main_merge, mpaas_d])"
   ]
  },
  {
   "cell_type": "code",
   "execution_count": null,
   "id": "aafab57f",
   "metadata": {},
   "outputs": [],
   "source": [
    "final_data['other_info'].str.lower().value_counts()"
   ]
  },
  {
   "cell_type": "code",
   "execution_count": null,
   "id": "fa18280f",
   "metadata": {},
   "outputs": [],
   "source": [
    "final_data = final_data.loc[~(final_data['other_info'].str.lower().str.contains('re-issue'))].reset_index(drop=True)"
   ]
  },
  {
   "cell_type": "code",
   "execution_count": null,
   "id": "b8f62f87",
   "metadata": {},
   "outputs": [],
   "source": [
    "# Eliminate duplicate rows that don't have rating reasons from the MPAA site\n",
    "final_data = final_data.loc[~((final_data.duplicated(subset=['imdb_ids'],keep=False))\n",
    "               &\n",
    "               (~final_data['imdb_ids'].isna())\n",
    "              &\n",
    "              (final_data['mpaa_reason'] == '')\n",
    "               & \n",
    "              (final_data['mpaa_rating'] != 'G'))]"
   ]
  },
  {
   "cell_type": "code",
   "execution_count": null,
   "id": "b915702e",
   "metadata": {},
   "outputs": [],
   "source": [
    "# Eliminate multiple rows for the same movie with the exact same rating reason\n",
    "final_data = final_data.loc[~((final_data.duplicated(subset=['imdb_ids', 'mpaa_reason'], keep='first'))\n",
    "               &\n",
    "               (~final_data['imdb_ids'].isna()))].reset_index(drop=True)"
   ]
  },
  {
   "cell_type": "code",
   "execution_count": null,
   "id": "f5b1915b",
   "metadata": {
    "scrolled": true
   },
   "outputs": [],
   "source": [
    "# Decided to drop the \"Edited Version\" of movies to avoid duplicate financials, etc.\n",
    "final_data = final_data.loc[~((final_data.duplicated(subset=['imdb_ids'], keep=False))\n",
    "               &\n",
    "               (~final_data['imdb_ids'].isna())\n",
    "               & \n",
    "               (final_data['other_info'].str.contains('Edited')))].reset_index(drop=True)"
   ]
  },
  {
   "cell_type": "code",
   "execution_count": null,
   "id": "333d17e6",
   "metadata": {
    "scrolled": false
   },
   "outputs": [],
   "source": [
    "final_data.loc[((final_data.duplicated(subset=['mpaa_title', 'rating_year', 'mpaa_cert_#'], keep=False))\n",
    "               #&\n",
    "               #(final_data['imdb_ids'].isna())\n",
    "              # & \n",
    "               #(final_data['other_info'].str.contains('Edited'))\n",
    "                )\n",
    "              ].reset_index(drop=True).sort_values('mpaa_title')"
   ]
  },
  {
   "cell_type": "code",
   "execution_count": null,
   "id": "53ea85d6",
   "metadata": {},
   "outputs": [],
   "source": [
    "final_data['the_fix'] = final_data['mpaa_title'].str.endswith(', The')\n",
    "final_data['a_fix'] = final_data['mpaa_title'].str.endswith(', A')\n",
    "final_data['temp_titles'] = final_data['mpaa_title'].str.replace(', The', '').str.replace(', A', '')\n",
    "final_data.loc[final_data['the_fix'] == True, 'clean_titles'] = 'The ' + final_data['temp_titles']\n",
    "final_data.loc[final_data['a_fix'] == True, 'clean_titles'] = 'A ' + final_data['temp_titles']\n",
    "final_data['clean_titles'] = final_data['clean_titles'].fillna(final_data['mpaa_title'])\n",
    "final_data = final_data.drop(columns = ['the_fix', 'a_fix', 'temp_titles'])\n",
    "final_data.loc[final_data['clean_titles'].str.contains('The')]"
   ]
  },
  {
   "cell_type": "code",
   "execution_count": null,
   "id": "328f492d",
   "metadata": {},
   "outputs": [],
   "source": [
    "final_data.columns"
   ]
  },
  {
   "cell_type": "code",
   "execution_count": null,
   "id": "159aff86",
   "metadata": {},
   "outputs": [],
   "source": [
    "final = final_data[['clean_titles', 'rating_year', 'mpaa_rating', 'mpaa_reason',\n",
    "            'imdb_ratings', 'metascores', 'votes', 'gross', 'release_year', 'release_note', \n",
    "             'imdb_runtimes', 'imdb_genres','mpaa_cert_#', 'mpaa_cert_note', 'other_info'\n",
    "           ]]"
   ]
  },
  {
   "cell_type": "code",
   "execution_count": null,
   "id": "7fa43de5",
   "metadata": {},
   "outputs": [],
   "source": [
    "final.to_pickle('../data/final_imdb_mpaa.pkl')"
   ]
  },
  {
   "cell_type": "code",
   "execution_count": null,
   "id": "620f9e0e",
   "metadata": {},
   "outputs": [],
   "source": []
  }
 ],
 "metadata": {
  "kernelspec": {
   "display_name": "Python 3 (ipykernel)",
   "language": "python",
   "name": "python3"
  },
  "language_info": {
   "codemirror_mode": {
    "name": "ipython",
    "version": 3
   },
   "file_extension": ".py",
   "mimetype": "text/x-python",
   "name": "python",
   "nbconvert_exporter": "python",
   "pygments_lexer": "ipython3",
   "version": "3.9.16"
  }
 },
 "nbformat": 4,
 "nbformat_minor": 5
}
