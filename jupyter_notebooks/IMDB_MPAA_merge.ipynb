{
 "cells": [
  {
   "cell_type": "code",
   "execution_count": null,
   "id": "0775aadb",
   "metadata": {},
   "outputs": [],
   "source": [
    "import pandas as pd\n",
    "import numpy as np\n",
    "import pickle\n",
    "import re"
   ]
  },
  {
   "cell_type": "code",
   "execution_count": null,
   "id": "b37c5eee",
   "metadata": {},
   "outputs": [],
   "source": [
    "imdb_reasons = pd.read_pickle('../data/imdb_reasons.pkl')\n",
    "imdb_reasons.info()"
   ]
  },
  {
   "cell_type": "code",
   "execution_count": null,
   "id": "a8936921",
   "metadata": {},
   "outputs": [],
   "source": [
    "# Going to have to deal with these separately\n",
    "imdb_dup_certs = imdb_reasons.loc[(imdb_reasons.duplicated(subset = ['mpaa_cert_#'], keep = False))\n",
    "                                  &\n",
    "                                  (imdb_reasons['mpaa_cert_#'] != 'None')].sort_values('mpaa_cert_#').reset_index(drop=True)"
   ]
  },
  {
   "cell_type": "code",
   "execution_count": null,
   "id": "9ae9ed67",
   "metadata": {},
   "outputs": [],
   "source": [
    "imdb_reasons = imdb_reasons.loc[~(imdb_reasons['mpaa_cert_#'].isin(imdb_dup_certs['mpaa_cert_#']))].reset_index(drop=True)"
   ]
  },
  {
   "cell_type": "code",
   "execution_count": null,
   "id": "9c196922",
   "metadata": {
    "scrolled": true
   },
   "outputs": [],
   "source": [
    "mpaa_details = pd.read_pickle('../data/mpaa_details.pkl')\n",
    "mpaa_details.info()"
   ]
  },
  {
   "cell_type": "code",
   "execution_count": null,
   "id": "3f725aa8",
   "metadata": {},
   "outputs": [],
   "source": [
    "# Going to have to deal with these separately\n",
    "mpaa_dup_certs = mpaa_details.loc[mpaa_details.duplicated(subset = ['mpaa_cert_#'], keep = False)].sort_values('mpaa_cert_#').reset_index(drop=True)"
   ]
  },
  {
   "cell_type": "code",
   "execution_count": null,
   "id": "71f1dbbf",
   "metadata": {},
   "outputs": [],
   "source": [
    "mpaa_details = mpaa_details.loc[~(mpaa_details['mpaa_cert_#'].isin(mpaa_dup_certs['mpaa_cert_#']))].reset_index(drop=True)"
   ]
  },
  {
   "cell_type": "markdown",
   "id": "e2d4e3f8",
   "metadata": {},
   "source": [
    "#### Merge the two main datasets"
   ]
  },
  {
   "cell_type": "code",
   "execution_count": null,
   "id": "a434661d",
   "metadata": {},
   "outputs": [],
   "source": [
    "outer_merge = pd.merge(imdb_reasons, mpaa_details, on = 'mpaa_cert_#', how = 'outer')"
   ]
  },
  {
   "cell_type": "code",
   "execution_count": null,
   "id": "bc7190ae",
   "metadata": {},
   "outputs": [],
   "source": [
    "# Amazing Stories was a TV show, not sure why it got rated by MPAA, dropping those rows\n",
    "outer_merge = outer_merge.loc[~(outer_merge['mpaa_title'].fillna('').str.contains('Amazing Stories'))]"
   ]
  },
  {
   "cell_type": "code",
   "execution_count": null,
   "id": "29201989",
   "metadata": {
    "scrolled": true
   },
   "outputs": [],
   "source": [
    "imdb_no_match = outer_merge.loc[outer_merge['mpaa_title'].isna()]\n",
    "mpaa_no_match = outer_merge.loc[outer_merge['imdb_ids'].isna()]"
   ]
  },
  {
   "cell_type": "code",
   "execution_count": null,
   "id": "78d124a3",
   "metadata": {},
   "outputs": [],
   "source": [
    "imdb_info = imdb_reasons.loc[imdb_reasons['imdb_ids'].isin(imdb_no_match['imdb_ids'])]\n",
    "mpaa_info = mpaa_details.loc[mpaa_details['mpaa_cert_#'].isin(mpaa_no_match['mpaa_cert_#'])]"
   ]
  },
  {
   "cell_type": "code",
   "execution_count": null,
   "id": "cc59e75f",
   "metadata": {
    "scrolled": true
   },
   "outputs": [],
   "source": [
    "print(len(imdb_info))\n",
    "print(len(mpaa_info))"
   ]
  },
  {
   "cell_type": "code",
   "execution_count": null,
   "id": "66e68bd1",
   "metadata": {
    "scrolled": true
   },
   "outputs": [],
   "source": [
    "# These movies originally released prior to the 1992-2022 timeframe except for one that was released in 2023\n",
    "mpaa_info.loc[mpaa_info['other_info'].str.contains('Re-Rating')].sort_values('rating_year')"
   ]
  },
  {
   "cell_type": "code",
   "execution_count": null,
   "id": "fc4bb1e1",
   "metadata": {},
   "outputs": [],
   "source": [
    "# These are all older movies that were originally released prior to rating reasons being required, will drop them\n",
    "mpaa_info.loc[mpaa_info['other_info'].str.contains('Re-Issue')]"
   ]
  },
  {
   "cell_type": "code",
   "execution_count": null,
   "id": "c1577c26",
   "metadata": {
    "scrolled": true
   },
   "outputs": [],
   "source": [
    "# These are also all older movies that were re-rated to use the current rating system\n",
    "mpaa_info.loc[mpaa_info['other_info'].str.contains('Rating Symbol')]"
   ]
  },
  {
   "cell_type": "code",
   "execution_count": null,
   "id": "db8f12ee",
   "metadata": {},
   "outputs": [],
   "source": [
    "outer_merge = outer_merge.loc[~(((outer_merge['other_info'].str.contains('Re-Rating'))\n",
    "                            |\n",
    "                             (outer_merge['other_info'].str.contains('Re-Issue'))\n",
    "                             |\n",
    "                             (outer_merge['other_info'].str.contains('Rating Symbol')))\n",
    "                            &\n",
    "                            (outer_merge['imdb_ids'].isna()))].reset_index(drop=True)"
   ]
  },
  {
   "cell_type": "code",
   "execution_count": null,
   "id": "53d0f3a7",
   "metadata": {},
   "outputs": [],
   "source": [
    "imdb_info.loc[(imdb_info['rating_reasons'] == 'None')\n",
    "              & \n",
    "              (imdb_info['mpaa_cert_#'] == 'None')\n",
    "              &\n",
    "              (~imdb_info['release_note'].isna())]\n",
    "\n",
    "#After a looking at a selection of the movies, they do not appear to have been rated by the MPAA, so removing them\n",
    "imdbids_to_remove_a = imdb_info.loc[(imdb_info['rating_reasons'] == 'None')\n",
    "              & \n",
    "              (imdb_info['mpaa_cert_#'] == 'None')\n",
    "              &\n",
    "              (~imdb_info['release_note'].isna())]['imdb_ids']"
   ]
  },
  {
   "cell_type": "code",
   "execution_count": null,
   "id": "e6f1bf70",
   "metadata": {},
   "outputs": [],
   "source": [
    "outer_merge = outer_merge.loc[~(outer_merge['imdb_ids'].isin(imdbids_to_remove_a))]"
   ]
  },
  {
   "cell_type": "code",
   "execution_count": null,
   "id": "88568a8b",
   "metadata": {},
   "outputs": [],
   "source": [
    "imdb_info.loc[imdb_info['rating_reasons'] == '']\n",
    "\n",
    "# none of these 3 were rated by the MPAA despite IMDB having a certificate # for them\n",
    "imdbids_to_remove_b = imdb_info.loc[imdb_info['rating_reasons'] == '']['imdb_ids']"
   ]
  },
  {
   "cell_type": "code",
   "execution_count": null,
   "id": "feb7996a",
   "metadata": {},
   "outputs": [],
   "source": [
    "outer_merge = outer_merge.loc[~(outer_merge['imdb_ids'].isin(imdbids_to_remove_b))]"
   ]
  },
  {
   "cell_type": "code",
   "execution_count": null,
   "id": "2ac9627d",
   "metadata": {
    "scrolled": false
   },
   "outputs": [],
   "source": [
    "imdb_info.loc[(imdb_info['imdb_genres'].str.contains('Short'))\n",
    "                & \n",
    "                (imdb_info['rating_reasons'] == 'None')]\n",
    "\n",
    "# After a looking at a selection of the movies, they do not appear to have been rated by the MPAA, so removing them\n",
    "imdbids_to_remove_c = imdb_info.loc[(imdb_info['imdb_genres'].str.contains('Short'))\n",
    "                                    & \n",
    "                                    (imdb_info['rating_reasons'] == 'None')]['imdb_ids']"
   ]
  },
  {
   "cell_type": "code",
   "execution_count": null,
   "id": "723c294a",
   "metadata": {},
   "outputs": [],
   "source": [
    "outer_merge = outer_merge.loc[~(outer_merge['imdb_ids'].isin(imdbids_to_remove_c))]"
   ]
  },
  {
   "cell_type": "code",
   "execution_count": null,
   "id": "e682b047",
   "metadata": {},
   "outputs": [],
   "source": [
    "imdb_no_match_b = outer_merge.loc[outer_merge['mpaa_title'].isna()]\n",
    "mpaa_no_match_b = outer_merge.loc[outer_merge['imdb_ids'].isna()]"
   ]
  },
  {
   "cell_type": "code",
   "execution_count": null,
   "id": "83624cae",
   "metadata": {},
   "outputs": [],
   "source": [
    "imdb_info_b = imdb_reasons.loc[(imdb_reasons['imdb_ids'].isin(imdb_no_match_b['imdb_ids']))]\n",
    "mpaa_info_b = mpaa_details.loc[mpaa_details['mpaa_cert_#'].isin(mpaa_no_match_b['mpaa_cert_#'])]"
   ]
  },
  {
   "cell_type": "code",
   "execution_count": null,
   "id": "e9d374e0",
   "metadata": {},
   "outputs": [],
   "source": [
    "print(len(imdb_info_b))\n",
    "print(len(mpaa_info_b))"
   ]
  },
  {
   "cell_type": "code",
   "execution_count": null,
   "id": "24629a38",
   "metadata": {},
   "outputs": [],
   "source": [
    "imdb_info_b.loc[(imdb_info_b['imdb_ratings'].isna())\n",
    "               & \n",
    "              (imdb_info_b['rating_reasons'] == 'None')]\n",
    "\n",
    "# After a looking at a selection of the movies, they do not appear to have been rated by the MPAA, so removing them\n",
    "imdbids_to_remove_d = imdb_info_b.loc[(imdb_info_b['imdb_ratings'].isna())\n",
    "                                      & \n",
    "                                      (imdb_info_b['rating_reasons'] == 'None')]['imdb_ids']"
   ]
  },
  {
   "cell_type": "code",
   "execution_count": null,
   "id": "f861cc17",
   "metadata": {},
   "outputs": [],
   "source": [
    "outer_merge = outer_merge.loc[~(outer_merge['imdb_ids'].isin(imdbids_to_remove_d))]"
   ]
  },
  {
   "cell_type": "code",
   "execution_count": null,
   "id": "1daa522d",
   "metadata": {},
   "outputs": [],
   "source": [
    "imdb_info_b.loc[(imdb_info_b['release_year'] == '1991')\n",
    "                &\n",
    "                (imdb_info_b['rating_reasons'] == 'None')]\n",
    "\n",
    "\n",
    "# These movies were rated prior to reasons being required\n",
    "imdbids_to_remove_e = imdb_info_b.loc[(imdb_info_b['release_year'] == '1991')\n",
    "                                      &\n",
    "                                      (imdb_info_b['rating_reasons'] == 'None')]['imdb_ids']"
   ]
  },
  {
   "cell_type": "code",
   "execution_count": null,
   "id": "51ed6421",
   "metadata": {},
   "outputs": [],
   "source": [
    "outer_merge = outer_merge.loc[~(outer_merge['imdb_ids'].isin(imdbids_to_remove_e))]"
   ]
  },
  {
   "cell_type": "code",
   "execution_count": null,
   "id": "6da4d510",
   "metadata": {},
   "outputs": [],
   "source": [
    "imdb_no_match_c = outer_merge.loc[outer_merge['mpaa_title'].isna()]\n",
    "mpaa_no_match_c = outer_merge.loc[outer_merge['imdb_ids'].isna()]"
   ]
  },
  {
   "cell_type": "code",
   "execution_count": null,
   "id": "cdad7576",
   "metadata": {},
   "outputs": [],
   "source": [
    "imdb_info_c = imdb_reasons.loc[(imdb_reasons['imdb_ids'].isin(imdb_no_match_c['imdb_ids']))]\n",
    "mpaa_info_c = mpaa_details.loc[mpaa_details['mpaa_cert_#'].isin(mpaa_no_match_c['mpaa_cert_#'])]"
   ]
  },
  {
   "cell_type": "code",
   "execution_count": null,
   "id": "4997423d",
   "metadata": {},
   "outputs": [],
   "source": [
    "print(len(imdb_info_c))\n",
    "print(len(mpaa_info_c))"
   ]
  },
  {
   "cell_type": "code",
   "execution_count": null,
   "id": "529ebd9b",
   "metadata": {},
   "outputs": [],
   "source": [
    "imdb_info_c.loc[(imdb_info_c['mpaa_cert_#'] != 'None')\n",
    "                &\n",
    "                (imdb_info_c['rating_reasons'] == 'None')]\n",
    "\n",
    "# These movies do not align with any MPAA rated movies OR they were rated prior to rating reasons\n",
    "imdbids_to_remove_f = imdb_info_c.loc[(imdb_info_c['mpaa_cert_#'] != 'None')\n",
    "                                      &\n",
    "                                      (imdb_info_c['rating_reasons'] == 'None')]['imdb_ids']"
   ]
  },
  {
   "cell_type": "code",
   "execution_count": null,
   "id": "392659b0",
   "metadata": {},
   "outputs": [],
   "source": [
    "outer_merge = outer_merge.loc[~(outer_merge['imdb_ids'].isin(imdbids_to_remove_f))]"
   ]
  },
  {
   "cell_type": "markdown",
   "id": "02676cf8",
   "metadata": {},
   "source": [
    "Now need to deal with the movies that appear multiple times, sometimes with all info, sometimes not"
   ]
  },
  {
   "cell_type": "code",
   "execution_count": null,
   "id": "86219f2e",
   "metadata": {},
   "outputs": [],
   "source": [
    "dup_ids = (\n",
    "    outer_merge.loc[(outer_merge['imdb_ids'].isin(imdb_info_c['imdb_ids']))\n",
    "                    &\n",
    "                    (~outer_merge['mpaa_title'].isna())\n",
    "                    ]['imdb_ids']\n",
    ")"
   ]
  },
  {
   "cell_type": "code",
   "execution_count": null,
   "id": "d49750ca",
   "metadata": {},
   "outputs": [],
   "source": [
    "dup_imbdid_indices = (\n",
    "    outer_merge.loc[(outer_merge['imdb_ids'].isin(dup_ids))\n",
    "                    &\n",
    "                    (outer_merge['mpaa_title'].isna())\n",
    "                    ].index\n",
    ")"
   ]
  },
  {
   "cell_type": "code",
   "execution_count": null,
   "id": "61860ef2",
   "metadata": {},
   "outputs": [],
   "source": [
    "outer_merge = (\n",
    "    outer_merge.drop(index=dup_imbdid_indices)\n",
    "    .reset_index(drop=True)\n",
    ")"
   ]
  },
  {
   "cell_type": "code",
   "execution_count": null,
   "id": "a30c835d",
   "metadata": {},
   "outputs": [],
   "source": [
    "imdb_info_c = imdb_info_c.loc[~imdb_info_c['imdb_ids'].isin(dup_ids)]"
   ]
  },
  {
   "cell_type": "code",
   "execution_count": null,
   "id": "e5571e49",
   "metadata": {},
   "outputs": [],
   "source": [
    "imdb_no_match_d = outer_merge.loc[outer_merge['mpaa_title'].isna()]\n",
    "mpaa_no_match_d = outer_merge.loc[outer_merge['imdb_ids'].isna()]"
   ]
  },
  {
   "cell_type": "code",
   "execution_count": null,
   "id": "c1ba7d51",
   "metadata": {},
   "outputs": [],
   "source": [
    "imdb_info_d = imdb_reasons.loc[(imdb_reasons['imdb_ids'].isin(imdb_no_match_d['imdb_ids']))]\n",
    "mpaa_info_d = mpaa_details.loc[mpaa_details['mpaa_cert_#'].isin(mpaa_no_match_d['mpaa_cert_#'])]"
   ]
  },
  {
   "cell_type": "code",
   "execution_count": null,
   "id": "29cb27f2",
   "metadata": {
    "scrolled": true
   },
   "outputs": [],
   "source": [
    "print(len(imdb_info_d))\n",
    "print(len(mpaa_info_d))"
   ]
  },
  {
   "cell_type": "markdown",
   "id": "6b6fbe81",
   "metadata": {},
   "source": [
    "Now comes the more complicated efforts to merge the datasets\n",
    "\n",
    "First, I will save the component of the merged data that worked just using the MPAA certiicate number, removing the remaining portions that didn't merge.\n",
    "\n",
    "I will then attempt to merge the remaining data (incluiding those elements of each data set that had duplicate MPAA certificate numbers) based on movie title (after removing \"The\", making lower case, and substituting all & symbols for \"and\") along with other data (rating, maybe years)."
   ]
  },
  {
   "cell_type": "code",
   "execution_count": null,
   "id": "158cf99a",
   "metadata": {},
   "outputs": [],
   "source": [
    "main_merge = (\n",
    "    outer_merge.loc[~((outer_merge['imdb_ids'].isin(imdb_info_d['imdb_ids']))\n",
    "                    |\n",
    "                    (outer_merge['mpaa_cert_#'].isin(mpaa_info_d['mpaa_cert_#'])))].reset_index(drop = True)\n",
    "\n",
    ")"
   ]
  },
  {
   "cell_type": "code",
   "execution_count": null,
   "id": "ee1ae610",
   "metadata": {},
   "outputs": [],
   "source": [
    "imdbs = pd.concat([imdb_info_d, imdb_dup_certs])\n",
    "mpaas = pd.concat([mpaa_info_d, mpaa_dup_certs])\n",
    "print(len(imdbs))\n",
    "print(len(mpaas))"
   ]
  },
  {
   "cell_type": "code",
   "execution_count": null,
   "id": "998b1820",
   "metadata": {},
   "outputs": [],
   "source": []
  },
  {
   "cell_type": "code",
   "execution_count": null,
   "id": "b8aea31e",
   "metadata": {},
   "outputs": [],
   "source": [
    "imdbs['match_titles'] = (\n",
    "    imdbs['imdb_titles']\n",
    "    .str.lower()\n",
    "    .str.replace('&', 'and')\n",
    "    .str.replace('the ', '')\n",
    "    .str.replace('a ', '')\n",
    "    .str.strip('.:!? ,')\n",
    ")\n",
    "imdbs"
   ]
  },
  {
   "cell_type": "code",
   "execution_count": null,
   "id": "99c79113",
   "metadata": {
    "scrolled": false
   },
   "outputs": [],
   "source": [
    "mpaas['match_titles'] = (\n",
    "    mpaas['mpaa_title']\n",
    "    .str.lower()\n",
    "    .str.replace('&', 'and')\n",
    "    .str.replace('the ', '')\n",
    "    .str.replace('a ', '')\n",
    "    .str.replace(', the', '')\n",
    "    .str.replace(', a', '')\n",
    "    .str.strip('.:!? ,')\n",
    ")\n",
    "mpaas"
   ]
  },
  {
   "cell_type": "code",
   "execution_count": null,
   "id": "252754fc",
   "metadata": {},
   "outputs": [],
   "source": [
    "mpaas.loc[mpaas['mpaa_title'].str.contains(', The')]"
   ]
  },
  {
   "cell_type": "code",
   "execution_count": null,
   "id": "2f6fde67",
   "metadata": {
    "scrolled": true
   },
   "outputs": [],
   "source": [
    "title_rating_year_merge = pd.merge(imdbs, mpaas, left_on = ['match_titles', 'imdb_mpaas', 'release_year'], right_on = ['match_titles', 'mpaa_rating', 'rating_year'], how = 'inner')\n",
    "title_rating_year_merge"
   ]
  },
  {
   "cell_type": "markdown",
   "id": "e47d0f4a",
   "metadata": {},
   "source": [
    "Going to have to think how to remove the MPAA rows out of mpaas dataframe since cert numbers can no longer be assumed to be unique\n",
    "\n",
    "Need to remove Sam and Kate (as opposed to Sam & Kate) for imdb_title from the dataframe"
   ]
  },
  {
   "cell_type": "code",
   "execution_count": null,
   "id": "fbf40353",
   "metadata": {
    "scrolled": true
   },
   "outputs": [],
   "source": [
    "title_merge.loc[~((title_merge['imdb_ids'].isna())\n",
    "                |\n",
    "                (title_merge['mpaa_title'].isna()))]"
   ]
  },
  {
   "cell_type": "code",
   "execution_count": null,
   "id": "2a43970e",
   "metadata": {
    "scrolled": true
   },
   "outputs": [],
   "source": [
    "title_merge.loc[title_merge['mpaa_title'].isna()]"
   ]
  },
  {
   "cell_type": "code",
   "execution_count": null,
   "id": "a08f42a4",
   "metadata": {},
   "outputs": [],
   "source": [
    "mpaa_details.loc[mpaa_details['mpaa_cert_#'] == '32854']"
   ]
  },
  {
   "cell_type": "code",
   "execution_count": null,
   "id": "7a760b29",
   "metadata": {},
   "outputs": [],
   "source": []
  }
 ],
 "metadata": {
  "kernelspec": {
   "display_name": "Python 3 (ipykernel)",
   "language": "python",
   "name": "python3"
  },
  "language_info": {
   "codemirror_mode": {
    "name": "ipython",
    "version": 3
   },
   "file_extension": ".py",
   "mimetype": "text/x-python",
   "name": "python",
   "nbconvert_exporter": "python",
   "pygments_lexer": "ipython3",
   "version": "3.9.16"
  }
 },
 "nbformat": 4,
 "nbformat_minor": 5
}
