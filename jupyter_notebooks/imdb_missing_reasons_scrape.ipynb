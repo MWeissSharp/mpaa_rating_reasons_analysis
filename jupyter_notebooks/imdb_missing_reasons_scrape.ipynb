{
 "cells": [
  {
   "cell_type": "code",
   "execution_count": null,
   "id": "ed184252",
   "metadata": {},
   "outputs": [],
   "source": [
    "import requests\n",
    "from bs4 import BeautifulSoup as BS\n",
    "\n",
    "import pandas as pd\n",
    "import numpy as np\n",
    "import pickle\n",
    "import re\n",
    "from tqdm import tqdm"
   ]
  },
  {
   "cell_type": "code",
   "execution_count": null,
   "id": "ceae030d",
   "metadata": {},
   "outputs": [],
   "source": [
    "missing_reasons = pd.read_pickle('../data/missing_reasons.pkl')"
   ]
  },
  {
   "cell_type": "code",
   "execution_count": null,
   "id": "f81293b4",
   "metadata": {},
   "outputs": [],
   "source": [
    "missing_reasons.sort_values()"
   ]
  },
  {
   "cell_type": "code",
   "execution_count": null,
   "id": "826f961d",
   "metadata": {},
   "outputs": [],
   "source": [
    "ids = []\n",
    "reasons = []\n",
    "notes = []\n",
    "\n",
    "for r_id in tqdm(missing_reasons):\n",
    "    url = f'https://www.imdb.com/title/{r_id}/parentalguide?ref_=tt_stry_pg'\n",
    "    soup = BS(requests.get(url).text)\n",
    "    \n",
    "    reason = \"None\"\n",
    "        \n",
    "    try:\n",
    "        note = re.findall('United States:.+\\n.*(?:certificate|No. |pca|#)(.+)\\)\\n', soup.find('td', attrs = {'class' : ''}).text)\n",
    "    except:\n",
    "        note = [\"None\"]\n",
    "    \n",
    "    ids.append(r_id)\n",
    "    reasons.append(reason)\n",
    "    notes.append(note)\n",
    "    \n",
    "    \n",
    "reason_df = pd.DataFrame(\n",
    "    {'imdb_ids' : ids,\n",
    "     'rating_reasons' : reasons,\n",
    "     'mpaa_cert_#' : notes}\n",
    "\n",
    ")"
   ]
  },
  {
   "cell_type": "code",
   "execution_count": null,
   "id": "c74a2141",
   "metadata": {},
   "outputs": [],
   "source": [
    "reasons = reason_df.explode('mpaa_cert_#').reset_index(drop = True)"
   ]
  },
  {
   "cell_type": "code",
   "execution_count": null,
   "id": "e90ddd9d",
   "metadata": {},
   "outputs": [],
   "source": [
    "reasons['mpaa_cert_#'] = [str(x).strip().replace('#', '') for x in reasons['mpaa_cert_#']]"
   ]
  },
  {
   "cell_type": "code",
   "execution_count": null,
   "id": "f6145617",
   "metadata": {},
   "outputs": [],
   "source": [
    "reasons[['mpaa_cert_#', 'mpaa_cert_note']] = reasons['mpaa_cert_#'].str.split(',', n=1, expand=True)"
   ]
  },
  {
   "cell_type": "code",
   "execution_count": null,
   "id": "c3f53038",
   "metadata": {},
   "outputs": [],
   "source": [
    "reasons.to_pickle('../data/more_rating_reasons.pkl')"
   ]
  },
  {
   "cell_type": "code",
   "execution_count": null,
   "id": "150aaf6c",
   "metadata": {},
   "outputs": [],
   "source": []
  }
 ],
 "metadata": {
  "kernelspec": {
   "display_name": "Python 3 (ipykernel)",
   "language": "python",
   "name": "python3"
  },
  "language_info": {
   "codemirror_mode": {
    "name": "ipython",
    "version": 3
   },
   "file_extension": ".py",
   "mimetype": "text/x-python",
   "name": "python",
   "nbconvert_exporter": "python",
   "pygments_lexer": "ipython3",
   "version": "3.9.16"
  }
 },
 "nbformat": 4,
 "nbformat_minor": 5
}
