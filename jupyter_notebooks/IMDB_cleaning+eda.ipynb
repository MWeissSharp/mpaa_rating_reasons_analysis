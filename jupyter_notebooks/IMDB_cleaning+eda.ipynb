{
 "cells": [
  {
   "cell_type": "code",
   "execution_count": null,
   "id": "0775aadb",
   "metadata": {},
   "outputs": [],
   "source": [
    "import pandas as pd\n",
    "import numpy as np\n",
    "import pickle\n",
    "import re"
   ]
  },
  {
   "cell_type": "code",
   "execution_count": null,
   "id": "b37c5eee",
   "metadata": {},
   "outputs": [],
   "source": [
    "first = pd.read_pickle('../data/imdb1992-2001.pkl')\n",
    "second = pd.read_pickle('../data/imdb2002-2009.pkl')\n",
    "third = pd.read_pickle('../data/imdb2010-2018.pkl')\n",
    "fourth = pd.read_pickle('../data/imdb2019-2021.pkl')\n",
    "fifth = pd.read_pickle('../data/imdb2022.pkl')\n",
    "\n",
    "imdb = pd.concat([first, second, third, fourth, fifth])\n",
    "\n",
    "imdb.info()"
   ]
  },
  {
   "cell_type": "code",
   "execution_count": null,
   "id": "5164d7e7",
   "metadata": {
    "scrolled": true
   },
   "outputs": [],
   "source": [
    "# Separate out the votes and gross US+Canada revenue values, clean up the values\n",
    "imdb = pd.concat([imdb.drop(columns='imdb_votes_and_gross'), pd.DataFrame(imdb['imdb_votes_and_gross'].tolist(), index=imdb.index)], \n",
    "               axis=1).rename(columns = {0 : 'votes', 1 : 'gross'})\n",
    "\n",
    "imdb['votes'] = imdb['votes'].str.strip('Votes:\\n').str.replace(',', '')\n",
    "imdb['gross'] = imdb['gross'].str.strip('Gross:\\n')"
   ]
  },
  {
   "cell_type": "code",
   "execution_count": null,
   "id": "d50ba2ae",
   "metadata": {},
   "outputs": [],
   "source": [
    "# The release years column has some other data, cleaning it up, splitting it out\n",
    "imdb['release_years'] = imdb['release_years'].str.strip('I X V ( )')\n",
    "\n",
    "imdb[['release_year', 'release_note']] = imdb['release_years'].str.split(pat = ' ', n = 1, expand=True)\n",
    "\n",
    "imdb = imdb.drop(columns='release_years')"
   ]
  },
  {
   "cell_type": "markdown",
   "id": "aab45f3f",
   "metadata": {},
   "source": [
    "Do some EDA, look for movies that need to be removed from the dataset"
   ]
  },
  {
   "cell_type": "code",
   "execution_count": null,
   "id": "a444cc52",
   "metadata": {
    "scrolled": true
   },
   "outputs": [],
   "source": [
    "imdb['release_year'].value_counts()"
   ]
  },
  {
   "cell_type": "code",
   "execution_count": null,
   "id": "ae55217f",
   "metadata": {},
   "outputs": [],
   "source": [
    "# Confirmed that the 3 movies without years associated with them are not among those with official MPAA ratings\n",
    "imdb = imdb.loc[imdb['release_year'] != ''].reset_index(drop=True)"
   ]
  },
  {
   "cell_type": "code",
   "execution_count": null,
   "id": "654c5d79",
   "metadata": {},
   "outputs": [],
   "source": [
    "imdb['imdb_mpaas'].value_counts()"
   ]
  },
  {
   "cell_type": "code",
   "execution_count": null,
   "id": "a05712b8",
   "metadata": {},
   "outputs": [],
   "source": [
    "# Dropping all movies with a non-MPAA rating\n",
    "ratings = ['G', 'PG', 'PG-13', 'R', 'NC-17']\n",
    "\n",
    "imdb = imdb.loc[imdb['imdb_mpaas'].isin(ratings)].reset_index(drop = True)"
   ]
  },
  {
   "cell_type": "code",
   "execution_count": null,
   "id": "f7064a55",
   "metadata": {},
   "outputs": [],
   "source": [
    "# Get the IMDB rating values out of list format\n",
    "imdb['imdb_ratings'] = pd.DataFrame(imdb['imdb_ratings'].tolist(), index=imdb.index)"
   ]
  },
  {
   "cell_type": "code",
   "execution_count": null,
   "id": "af1bc938",
   "metadata": {},
   "outputs": [],
   "source": [
    "imdb"
   ]
  },
  {
   "cell_type": "code",
   "execution_count": null,
   "id": "7e12280c",
   "metadata": {},
   "outputs": [],
   "source": [
    "#imdb.to_pickle('../data/imdb_interim.pkl')"
   ]
  },
  {
   "cell_type": "code",
   "execution_count": null,
   "id": "100d01d4",
   "metadata": {},
   "outputs": [],
   "source": []
  }
 ],
 "metadata": {
  "kernelspec": {
   "display_name": "Python 3 (ipykernel)",
   "language": "python",
   "name": "python3"
  },
  "language_info": {
   "codemirror_mode": {
    "name": "ipython",
    "version": 3
   },
   "file_extension": ".py",
   "mimetype": "text/x-python",
   "name": "python",
   "nbconvert_exporter": "python",
   "pygments_lexer": "ipython3",
   "version": "3.9.16"
  }
 },
 "nbformat": 4,
 "nbformat_minor": 5
}
