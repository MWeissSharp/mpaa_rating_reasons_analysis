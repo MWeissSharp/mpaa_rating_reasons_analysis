{
 "cells": [
  {
   "cell_type": "code",
   "execution_count": null,
   "id": "6095a91b",
   "metadata": {},
   "outputs": [],
   "source": [
    "import requests\n",
    "import pandas as pd\n",
    "import json\n",
    "from tqdm import tqdm"
   ]
  },
  {
   "cell_type": "code",
   "execution_count": null,
   "id": "582c9aa9",
   "metadata": {
    "scrolled": true
   },
   "outputs": [],
   "source": [
    "all_mpaa_info = pd.read_csv('../data/clean_mpaa_data.csv')\n",
    "mpaa_info = all_mpaa_info.drop(columns = 'Unnamed: 0')\n",
    "mpaa_info.info()"
   ]
  },
  {
   "cell_type": "code",
   "execution_count": null,
   "id": "85721759",
   "metadata": {},
   "outputs": [],
   "source": [
    "# Adjust title formats to align with TMDB format\n",
    "tmdb_df = pd.DataFrame()\n",
    "tmdb_df['the_fix'] = mpaa_info['title'].str.endswith(', The')\n",
    "tmdb_df['a_fix'] = mpaa_info['title'].str.endswith(', A')\n",
    "tmdb_df['mpaa_title'] = mpaa_info['title']\n",
    "tmdb_df['title'] = mpaa_info['title'].str.replace(', The', '').str.replace(', A', '')\n",
    "tmdb_df.loc[tmdb_df['the_fix'] == True, 'tmdb_title'] = 'The ' + tmdb_df['title']\n",
    "tmdb_df.loc[tmdb_df['a_fix'] == True, 'tmdb_title'] = 'A ' + tmdb_df['title']\n",
    "tmdb_df['tmdb_title'] = tmdb_df['tmdb_title'].fillna(tmdb_df['title'])\n",
    "tmdb_df = tmdb_df.drop(columns = ['the_fix', 'a_fix', 'title'])"
   ]
  },
  {
   "cell_type": "code",
   "execution_count": null,
   "id": "984dbdcf",
   "metadata": {},
   "outputs": [],
   "source": [
    "tmdb_df.info()"
   ]
  },
  {
   "cell_type": "code",
   "execution_count": null,
   "id": "daad47ab",
   "metadata": {
    "scrolled": true
   },
   "outputs": [],
   "source": [
    "# open and access api key\n",
    "with open('../data/mpaa_keys.json') as fi:\n",
    "    credentials = json.load(fi)\n",
    "    \n",
    "api_key = credentials['tmdb_key']"
   ]
  },
  {
   "cell_type": "code",
   "execution_count": null,
   "id": "2fad9642",
   "metadata": {},
   "outputs": [],
   "source": [
    "endpoint = 'https://api.themoviedb.org/3/search/movie'"
   ]
  },
  {
   "cell_type": "markdown",
   "id": "22a382c8",
   "metadata": {},
   "source": [
    "#### Test the process with a small dataset"
   ]
  },
  {
   "cell_type": "code",
   "execution_count": null,
   "id": "3ec8f6cf",
   "metadata": {
    "scrolled": true
   },
   "outputs": [],
   "source": [
    "tmdb_test = tmdb_df.iloc[0:20, :]\n",
    "tmdb_test"
   ]
  },
  {
   "cell_type": "code",
   "execution_count": null,
   "id": "eb2a392c",
   "metadata": {},
   "outputs": [],
   "source": [
    "results = []\n",
    "counts = []\n",
    "\n",
    "for n in range(0, len(tmdb_test)):\n",
    "    \n",
    "    params = {\n",
    "        'api_key' : api_key,\n",
    "        'query' : tmdb_test['tmdb_title'].iloc[n]\n",
    "    }\n",
    "    \n",
    "    response = requests.get(endpoint,\n",
    "                            params=params)\n",
    "    \n",
    "    results.append(response.json()['results'])\n",
    "    counts.append(len(response.json()['results']))\n",
    "    \n",
    "tmdb_test['results'] = results\n",
    "tmdb_test['res_count'] = counts"
   ]
  },
  {
   "cell_type": "code",
   "execution_count": null,
   "id": "c3966742",
   "metadata": {},
   "outputs": [],
   "source": [
    "tmdb_test"
   ]
  },
  {
   "cell_type": "markdown",
   "id": "78f6933c",
   "metadata": {},
   "source": [
    "#### Iterate through all of the titles obtained from the MPAA site"
   ]
  },
  {
   "cell_type": "code",
   "execution_count": null,
   "id": "0e639848",
   "metadata": {},
   "outputs": [],
   "source": [
    "results = []\n",
    "counts = []\n",
    "\n",
    "for n in tqdm(range(0, len(tmdb_df))):\n",
    "    \n",
    "    params = {\n",
    "        'api_key' : api_key,\n",
    "        'query' : tmdb_df['tmdb_title'].iloc[n]\n",
    "    }\n",
    "    \n",
    "    response = requests.get(endpoint,\n",
    "                            params=params)\n",
    "    \n",
    "    results.append(response.json()['results'])\n",
    "    counts.append(len(response.json()['results']))"
   ]
  },
  {
   "cell_type": "code",
   "execution_count": null,
   "id": "ffdf1f33",
   "metadata": {},
   "outputs": [],
   "source": [
    "tmdb_df['results'] = results\n",
    "tmdb_df['res_count'] = counts"
   ]
  },
  {
   "cell_type": "code",
   "execution_count": null,
   "id": "63cb86f6",
   "metadata": {},
   "outputs": [],
   "source": [
    "tmdb_df.info()"
   ]
  },
  {
   "cell_type": "code",
   "execution_count": null,
   "id": "f037ef65",
   "metadata": {},
   "outputs": [],
   "source": [
    "# import pickle\n",
    "# tmdb_df.to_pickle('../data/tmdb_raw.pkl')"
   ]
  },
  {
   "cell_type": "code",
   "execution_count": null,
   "id": "71efb390",
   "metadata": {},
   "outputs": [],
   "source": [
    "# How many records were retrieved?\n",
    "tmdb_df['res_count'].sum()"
   ]
  },
  {
   "cell_type": "markdown",
   "id": "8dfddb43",
   "metadata": {},
   "source": [
    "#### Normalize the records retrieved"
   ]
  },
  {
   "cell_type": "code",
   "execution_count": null,
   "id": "05ff19db",
   "metadata": {},
   "outputs": [],
   "source": [
    "tmdb_details = (pd.json_normalize(tmdb_df.loc[tmdb_df['res_count'] > 0]['results']).melt())"
   ]
  },
  {
   "cell_type": "code",
   "execution_count": null,
   "id": "63d600f2",
   "metadata": {},
   "outputs": [],
   "source": [
    "tmdb_details = pd.json_normalize(tmdb_details.loc[~tmdb_details['value'].isna()]['value'])\n",
    "\n",
    "# Remove irrelevant columns\n",
    "tmdb_details = tmdb_details.drop(columns = ['adult', 'backdrop_path', 'poster_path'])\n",
    "\n",
    "# Convert release_date column to datetime\n",
    "tmdb_details['release_date'] = pd.to_datetime(tmdb_details['release_date'])\n",
    "\n",
    "tmdb_details.info()"
   ]
  },
  {
   "cell_type": "code",
   "execution_count": null,
   "id": "72b45c74",
   "metadata": {},
   "outputs": [],
   "source": [
    "# Remove rows for movies released prior to 1992\n",
    "tmdb_filtered = tmdb_details.loc[tmdb_details['release_date'] >'1991-12-31']"
   ]
  },
  {
   "cell_type": "code",
   "execution_count": null,
   "id": "d97376b6",
   "metadata": {},
   "outputs": [],
   "source": [
    "tmdb_filtered.info()"
   ]
  },
  {
   "cell_type": "code",
   "execution_count": null,
   "id": "e6957f1d",
   "metadata": {},
   "outputs": [],
   "source": [
    "# Create a release_year column to use as part of the process for ultimately merging this info back to the mpaa dataframe\n",
    "tmdb_filtered['release_year'] = tmdb_filtered['release_date'].dt.year"
   ]
  },
  {
   "cell_type": "code",
   "execution_count": null,
   "id": "868dc5e6",
   "metadata": {},
   "outputs": [],
   "source": [
    "# tmdb_filtered.to_pickle('../data/tmdb_filtered.pkl')"
   ]
  },
  {
   "cell_type": "code",
   "execution_count": null,
   "id": "391bee25",
   "metadata": {},
   "outputs": [],
   "source": []
  }
 ],
 "metadata": {
  "kernelspec": {
   "display_name": "Python 3 (ipykernel)",
   "language": "python",
   "name": "python3"
  },
  "language_info": {
   "codemirror_mode": {
    "name": "ipython",
    "version": 3
   },
   "file_extension": ".py",
   "mimetype": "text/x-python",
   "name": "python",
   "nbconvert_exporter": "python",
   "pygments_lexer": "ipython3",
   "version": "3.9.16"
  }
 },
 "nbformat": 4,
 "nbformat_minor": 5
}
