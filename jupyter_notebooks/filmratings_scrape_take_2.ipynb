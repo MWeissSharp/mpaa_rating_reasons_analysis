{
 "cells": [
  {
   "cell_type": "code",
   "execution_count": null,
   "id": "61b77dae",
   "metadata": {},
   "outputs": [],
   "source": [
    "import requests\n",
    "from bs4 import BeautifulSoup as BS\n",
    "from selenium import webdriver\n",
    "from selenium.webdriver.common.keys import Keys\n",
    "from selenium.webdriver.common.by import By\n",
    "from selenium.webdriver.common.action_chains import ActionChains\n",
    "from selenium.webdriver.support.select import Select\n",
    "import time\n",
    "\n",
    "import re\n",
    "import pandas as pd\n",
    "import numpy as np\n",
    "import pickle\n",
    "from tqdm import tqdm"
   ]
  },
  {
   "cell_type": "code",
   "execution_count": null,
   "id": "03feeb8f",
   "metadata": {},
   "outputs": [],
   "source": [
    "def get_mpaa_details(year, rating):\n",
    "    \n",
    "    time.sleep(1)\n",
    "    \n",
    "    try:\n",
    "        #get the filmratings.com search running\n",
    "        driver.get(f\"https://www.filmratings.com/Search?filmYear={year}&filmRating={rating}\")\n",
    "\n",
    "        time.sleep(1)\n",
    "\n",
    "        content = driver.page_source\n",
    "        soup = BS(content)\n",
    "\n",
    "        pages = int(re.search('- (\\d{1,2}) ', (soup.find('div', attrs = {'id':'resultcount'}).text))[1])\n",
    "\n",
    "        for page in range(0, pages):\n",
    "            if page == 0:\n",
    "                print(f'{page} of {pages}')\n",
    "                \n",
    "                #create the soup\n",
    "                content = driver.page_source\n",
    "                soup = BS(content)\n",
    "\n",
    "                movies = soup.find_all('div', attrs = {'class' : 'resultRow'})\n",
    "\n",
    "                for movie in movies:\n",
    "                    details = movie.text\n",
    "                    results.append(details)\n",
    "            else:\n",
    "                print(f'{page} of {pages}')\n",
    "\n",
    "                #find and click on the \"Next\" button\n",
    "                view_html = driver.find_element(by=By.CSS_SELECTOR, value=\"[class = 'next']\")\n",
    "                view_html.click()\n",
    "\n",
    "                time.sleep(2)\n",
    "\n",
    "                #create the soup\n",
    "                content = driver.page_source\n",
    "                soup = BS(content)\n",
    "\n",
    "                movies = soup.find_all('div', attrs = {'class' : 'resultRow'})\n",
    "\n",
    "                for movie in movies:\n",
    "                    details = movie.text\n",
    "                    results.append(details)\n",
    "        \n",
    "    except:\n",
    "        pass"
   ]
  },
  {
   "cell_type": "code",
   "execution_count": null,
   "id": "31d62f8f",
   "metadata": {},
   "outputs": [],
   "source": [
    "#Creating list of movie ratings as used by filmratings.com\n",
    "ratings = pd.DataFrame(['PG', 'PG-13', 'R', 'NC-17'], columns=['rating'])\n",
    "ratings['key'] = 1\n",
    "\n",
    "#Creating list of years of interest\n",
    "years = pd.DataFrame(list(range(1992, 2023)), columns = ['year'])\n",
    "years['key'] = 1\n",
    "\n",
    "#\"Cross-joining\" these two lists to create combinations of every year and rating\n",
    "year_rating = pd.merge(years, ratings, on = 'key').drop('key', 1)\n",
    "\n",
    "year_rating.info()"
   ]
  },
  {
   "cell_type": "code",
   "execution_count": null,
   "id": "2b9d2fd2",
   "metadata": {
    "scrolled": true
   },
   "outputs": [],
   "source": [
    "results = []\n",
    "\n",
    "#initiate Selenium\n",
    "driver = webdriver.Chrome()\n",
    "\n",
    "for ind, row in tqdm(year_rating.iterrows()):\n",
    "    #grab each year/rating combination\n",
    "    year = row['year']\n",
    "    rating = row['rating']\n",
    "    print(f'{year}, {rating}')\n",
    "    get_mpaa_details(year, rating)"
   ]
  },
  {
   "cell_type": "code",
   "execution_count": null,
   "id": "de613030",
   "metadata": {},
   "outputs": [],
   "source": [
    "len(results)"
   ]
  },
  {
   "cell_type": "code",
   "execution_count": null,
   "id": "0bb823d1",
   "metadata": {
    "scrolled": true
   },
   "outputs": [],
   "source": [
    "pd.Series(results).to_pickle('../data/mpaa_results.pkl')"
   ]
  },
  {
   "cell_type": "code",
   "execution_count": null,
   "id": "82eb2bd7",
   "metadata": {},
   "outputs": [],
   "source": [
    "#Creating list of movie ratings as used by filmratings.com\n",
    "ratings = pd.DataFrame(['PG', 'PG-13', 'R', 'NC-17'], columns=['rating'])\n",
    "ratings['key'] = 1\n",
    "\n",
    "#Creating list of years of interest\n",
    "years = pd.DataFrame([1991, 2023], columns = ['year'])\n",
    "years['key'] = 1\n",
    "\n",
    "#\"Cross-joining\" these two lists to create combinations of every year and rating\n",
    "extra_years = pd.merge(years, ratings, on = 'key').drop('key', 1)\n",
    "\n",
    "extra_years.info()"
   ]
  },
  {
   "cell_type": "code",
   "execution_count": null,
   "id": "b1a26727",
   "metadata": {},
   "outputs": [],
   "source": [
    "extra_years"
   ]
  },
  {
   "cell_type": "code",
   "execution_count": null,
   "id": "7671fe15",
   "metadata": {},
   "outputs": [],
   "source": [
    "results = []\n",
    "\n",
    "#initiate Selenium\n",
    "driver = webdriver.Chrome()\n",
    "\n",
    "for ind, row in tqdm(extra_years.iterrows()):\n",
    "    #grab each year/rating combination\n",
    "    year = row['year']\n",
    "    rating = row['rating']\n",
    "    print(f'{year}, {rating}')\n",
    "    get_mpaa_details(year, rating)"
   ]
  },
  {
   "cell_type": "code",
   "execution_count": null,
   "id": "a0f1d904",
   "metadata": {},
   "outputs": [],
   "source": [
    "results"
   ]
  },
  {
   "cell_type": "code",
   "execution_count": null,
   "id": "dc19d719",
   "metadata": {},
   "outputs": [],
   "source": [
    "pd.Series(results).to_pickle('../data/extra_mpaa_results.pkl')"
   ]
  },
  {
   "cell_type": "code",
   "execution_count": null,
   "id": "f8d17460",
   "metadata": {},
   "outputs": [],
   "source": [
    "results = []\n",
    "\n",
    "#initiate Selenium\n",
    "driver = webdriver.Chrome()\n",
    "\n",
    "get_mpaa_details(2007, 'PG-13')"
   ]
  },
  {
   "cell_type": "code",
   "execution_count": null,
   "id": "e270e74d",
   "metadata": {},
   "outputs": [],
   "source": [
    "pg13_2007_results = results"
   ]
  },
  {
   "cell_type": "code",
   "execution_count": null,
   "id": "ec5628f2",
   "metadata": {},
   "outputs": [],
   "source": [
    "#Creating list of movie ratings as used by filmratings.com\n",
    "ratings = pd.DataFrame(['G'], columns=['rating'])\n",
    "ratings['key'] = 1\n",
    "\n",
    "#Creating list of years of interest\n",
    "years = pd.DataFrame(list(range(1991, 2024)), columns = ['year'])\n",
    "years['key'] = 1\n",
    "\n",
    "#\"Cross-joining\" these two lists to create combinations of every year and rating\n",
    "g_year_rating = pd.merge(years, ratings, on = 'key').drop('key', 1)\n",
    "\n",
    "g_year_rating.info()"
   ]
  },
  {
   "cell_type": "code",
   "execution_count": null,
   "id": "e593f059",
   "metadata": {},
   "outputs": [],
   "source": [
    "results = []\n",
    "\n",
    "#initiate Selenium\n",
    "driver = webdriver.Chrome()\n",
    "\n",
    "for ind, row in tqdm(g_year_rating.iterrows()):\n",
    "    #grab each year/rating combination\n",
    "    year = row['year']\n",
    "    rating = row['rating']\n",
    "    print(f'{year}, {rating}')\n",
    "    get_mpaa_details(year, rating)"
   ]
  },
  {
   "cell_type": "code",
   "execution_count": null,
   "id": "6e430fdd",
   "metadata": {},
   "outputs": [],
   "source": [
    "g_results_plus = pd.concat([pd.Series(pg13_2007_results), pd.Series(results)])"
   ]
  },
  {
   "cell_type": "code",
   "execution_count": null,
   "id": "610471d9",
   "metadata": {},
   "outputs": [],
   "source": [
    "g_results_plus.to_pickle('../data/g_plus_results.pkl')"
   ]
  },
  {
   "cell_type": "code",
   "execution_count": null,
   "id": "9d45b9f2",
   "metadata": {},
   "outputs": [],
   "source": []
  }
 ],
 "metadata": {
  "kernelspec": {
   "display_name": "Python 3 (ipykernel)",
   "language": "python",
   "name": "python3"
  },
  "language_info": {
   "codemirror_mode": {
    "name": "ipython",
    "version": 3
   },
   "file_extension": ".py",
   "mimetype": "text/x-python",
   "name": "python",
   "nbconvert_exporter": "python",
   "pygments_lexer": "ipython3",
   "version": "3.9.16"
  }
 },
 "nbformat": 4,
 "nbformat_minor": 5
}
