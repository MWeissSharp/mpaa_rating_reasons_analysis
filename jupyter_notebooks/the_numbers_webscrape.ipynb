{
 "cells": [
  {
   "cell_type": "code",
   "execution_count": null,
   "id": "09534a20",
   "metadata": {},
   "outputs": [],
   "source": [
    "import requests\n",
    "from bs4 import BeautifulSoup as BS\n",
    "\n",
    "from selenium import webdriver\n",
    "from selenium.webdriver.common.keys import Keys\n",
    "from selenium.webdriver.common.by import By\n",
    "from selenium.webdriver.common.action_chains import ActionChains\n",
    "from selenium.webdriver.support.select import Select\n",
    "\n",
    "import time\n",
    "\n",
    "import pandas as pd\n",
    "import numpy as np"
   ]
  },
  {
   "cell_type": "markdown",
   "id": "d0b9a676",
   "metadata": {},
   "source": [
    "#### Test out accessing website The Numbers (https://www.the-numbers.com/)"
   ]
  },
  {
   "cell_type": "code",
   "execution_count": null,
   "id": "43239ecc",
   "metadata": {},
   "outputs": [],
   "source": [
    "#initiate Selenium\n",
    "driver = webdriver.Chrome()"
   ]
  },
  {
   "cell_type": "code",
   "execution_count": null,
   "id": "d8506c6d",
   "metadata": {},
   "outputs": [],
   "source": [
    "# open the budgets page\n",
    "driver.get(\"https://www.the-numbers.com/movie/budgets/all\")"
   ]
  },
  {
   "cell_type": "code",
   "execution_count": null,
   "id": "e37ee8d9",
   "metadata": {},
   "outputs": [],
   "source": [
    "#create the soup\n",
    "content = driver.page_source\n",
    "soup = BS(content)"
   ]
  },
  {
   "cell_type": "code",
   "execution_count": null,
   "id": "aa88854c",
   "metadata": {},
   "outputs": [],
   "source": [
    "# pull out the table and turn it into a dataframe\n",
    "pd.read_html(str(soup.find('table')))[0]"
   ]
  },
  {
   "cell_type": "code",
   "execution_count": null,
   "id": "40630149",
   "metadata": {},
   "outputs": [],
   "source": [
    "# Close the driver\n",
    "driver.close()"
   ]
  },
  {
   "cell_type": "code",
   "execution_count": null,
   "id": "013c50c2",
   "metadata": {},
   "outputs": [],
   "source": [
    "# Create a function to complete the above steps for each page\n",
    "\n",
    "def get_numbers(num_str):\n",
    "    \n",
    "    time.sleep(6)\n",
    "    \n",
    "    # open the relevant page\n",
    "    driver.get(f\"https://www.the-numbers.com/movie/budgets/all/{num_str}01\")\n",
    "    \n",
    "    time.sleep(3)\n",
    "    \n",
    "    # create the soup\n",
    "    content = driver.page_source\n",
    "    soup = BS(content)\n",
    "    \n",
    "    # get the table\n",
    "    temp_df = pd.read_html(str(soup.find('table')))[0]\n",
    "    \n",
    "    #adding the temp_df data into the global numbers_df to create one complete dataframe\n",
    "    global numbers_df\n",
    "    numbers_df = pd.concat([numbers_df, temp_df])\n",
    "    numbers_df = numbers_df.reset_index(drop=True)"
   ]
  },
  {
   "cell_type": "code",
   "execution_count": null,
   "id": "baf0a865",
   "metadata": {},
   "outputs": [],
   "source": [
    "# Test out creating the url\n",
    "driver = webdriver.Chrome()\n",
    "\n",
    "num_str = str(2)\n",
    "driver.get(f\"https://www.the-numbers.com/movie/budgets/all/{num_str}01\")"
   ]
  },
  {
   "cell_type": "markdown",
   "id": "851d85c5",
   "metadata": {},
   "source": [
    "#### Iterate through all pages that contain movie budget info"
   ]
  },
  {
   "cell_type": "code",
   "execution_count": null,
   "id": "bcf0396b",
   "metadata": {
    "scrolled": true
   },
   "outputs": [],
   "source": [
    "# initiate Selenium\n",
    "driver = webdriver.Chrome()\n",
    "\n",
    "# Create empty dataframe with column names that match columns names of the html table\n",
    "numbers_df = pd.DataFrame(columns = ['Unnamed: 0', 'Release Date', 'Movie', 'Production Budget', 'Domestic Gross', 'Worldwide Gross'])\n",
    "\n",
    "for n in range(0, 64):\n",
    "    num_str = str(n)\n",
    "    get_numbers(num_str)\n",
    "    \n",
    "driver.close()"
   ]
  },
  {
   "cell_type": "code",
   "execution_count": null,
   "id": "7e25f25e",
   "metadata": {},
   "outputs": [],
   "source": [
    "numbers_df"
   ]
  },
  {
   "cell_type": "code",
   "execution_count": null,
   "id": "ce787c6b",
   "metadata": {},
   "outputs": [],
   "source": [
    "# import pickle\n",
    "# numbers_df.to_pickle('../data/numbers_data.pkl')"
   ]
  },
  {
   "cell_type": "code",
   "execution_count": null,
   "id": "ab62bf7e",
   "metadata": {},
   "outputs": [],
   "source": []
  }
 ],
 "metadata": {
  "kernelspec": {
   "display_name": "Python 3 (ipykernel)",
   "language": "python",
   "name": "python3"
  },
  "language_info": {
   "codemirror_mode": {
    "name": "ipython",
    "version": 3
   },
   "file_extension": ".py",
   "mimetype": "text/x-python",
   "name": "python",
   "nbconvert_exporter": "python",
   "pygments_lexer": "ipython3",
   "version": "3.9.16"
  }
 },
 "nbformat": 4,
 "nbformat_minor": 5
}
